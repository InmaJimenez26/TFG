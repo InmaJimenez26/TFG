{
 "cells": [
  {
   "cell_type": "markdown",
   "id": "cd6cc1f6",
   "metadata": {},
   "source": [
    "## Cargar el modelo"
   ]
  },
  {
   "cell_type": "code",
   "execution_count": 1,
   "id": "4fa115b4",
   "metadata": {},
   "outputs": [],
   "source": [
    "import tensorflow as tf\n",
    "import matplotlib.pyplot as plt\n",
    "import pickle\n",
    "import numpy as np\n",
    "import pandas as pd\n",
    "from sklearn.metrics import roc_auc_score, accuracy_score\n",
    "from keras.utils import np_utils\n",
    "from sklearn.metrics import confusion_matrix\n",
    "from sklearn.datasets import load_files \n",
    "from keras.preprocessing import image\n",
    "import seaborn as sns"
   ]
  },
  {
   "cell_type": "code",
   "execution_count": 2,
   "id": "4248f8d8",
   "metadata": {},
   "outputs": [
    {
     "name": "stderr",
     "output_type": "stream",
     "text": [
      "2022-06-19 12:30:05.507626: I tensorflow/core/platform/cpu_feature_guard.cc:151] This TensorFlow binary is optimized with oneAPI Deep Neural Network Library (oneDNN) to use the following CPU instructions in performance-critical operations:  AVX2 FMA\n",
      "To enable them in other operations, rebuild TensorFlow with the appropriate compiler flags.\n"
     ]
    }
   ],
   "source": [
    "inceptionResNet_model = tf.keras.models.load_model('modelos/01_inception_final_v2')"
   ]
  },
  {
   "cell_type": "markdown",
   "id": "453934b8",
   "metadata": {},
   "source": [
    "# Evaluación del modelo"
   ]
  },
  {
   "cell_type": "code",
   "execution_count": 3,
   "id": "df791afd",
   "metadata": {},
   "outputs": [
    {
     "name": "stdout",
     "output_type": "stream",
     "text": [
      "Found 1072 images belonging to 3 classes.\n"
     ]
    }
   ],
   "source": [
    "test_dir = \"/Users/inma/Desktop/tfg/datos/test\"\n",
    "test_gen = tf.keras.preprocessing.image.ImageDataGenerator(rescale = 1./255)\n",
    "test_data = test_gen.flow_from_directory(test_dir,\n",
    "                                           target_size = (224,224),\n",
    "                                           class_mode = \"categorical\",\n",
    "                                           batch_size = 32\n",
    "                                          )"
   ]
  },
  {
   "cell_type": "code",
   "execution_count": 4,
   "id": "31a417f9",
   "metadata": {},
   "outputs": [
    {
     "name": "stdout",
     "output_type": "stream",
     "text": [
      "34/34 [==============================] - 141s 4s/step - loss: 0.9085 - accuracy: 0.5233\n"
     ]
    }
   ],
   "source": [
    "inceptionResNet_model_evaluation = inceptionResNet_model.evaluate(test_data)"
   ]
  },
  {
   "cell_type": "markdown",
   "id": "aaae3dea",
   "metadata": {},
   "source": [
    "### Comparación - Métricas de evaluación\n",
    "\n",
    "#### 1. Accuracy"
   ]
  },
  {
   "cell_type": "code",
   "execution_count": 5,
   "id": "8cec16f9",
   "metadata": {},
   "outputs": [
    {
     "name": "stdout",
     "output_type": "stream",
     "text": [
      "InceptionResNet Model Accuarcy :  52.33%\n"
     ]
    }
   ],
   "source": [
    "print(f\"InceptionResNet Model Accuarcy : {inceptionResNet_model_evaluation[1] *100 : 0.2f}%\")"
   ]
  },
  {
   "cell_type": "markdown",
   "id": "74e5f45e",
   "metadata": {},
   "source": [
    "Los resultados son mejores."
   ]
  },
  {
   "cell_type": "markdown",
   "id": "d49bbdaa",
   "metadata": {},
   "source": [
    "#### 2. Test Loss"
   ]
  },
  {
   "cell_type": "code",
   "execution_count": 6,
   "id": "e0add386",
   "metadata": {},
   "outputs": [
    {
     "name": "stdout",
     "output_type": "stream",
     "text": [
      "InceptionResNet Model TestLoss :  90.85%\n"
     ]
    }
   ],
   "source": [
    "print(f\"InceptionResNet Model TestLoss : {inceptionResNet_model_evaluation[0] *100 : 0.2f}%\")"
   ]
  },
  {
   "cell_type": "markdown",
   "id": "2645b3d1",
   "metadata": {},
   "source": [
    "#### 3. ROC AUC"
   ]
  },
  {
   "cell_type": "code",
   "execution_count": 7,
   "id": "bf5ce6c8",
   "metadata": {},
   "outputs": [],
   "source": [
    "num_test = len(test_data.filenames)/64\n",
    "\n",
    "labels = np_utils.to_categorical(np.array(test_data.classes), 3)"
   ]
  },
  {
   "cell_type": "code",
   "execution_count": 8,
   "id": "36d90fe3",
   "metadata": {},
   "outputs": [],
   "source": [
    "predictions_inception = inceptionResNet_model.predict(test_data)"
   ]
  },
  {
   "cell_type": "markdown",
   "id": "ed079c68",
   "metadata": {},
   "source": [
    "##### Calcular auc:"
   ]
  },
  {
   "cell_type": "code",
   "execution_count": 9,
   "id": "4608971d",
   "metadata": {},
   "outputs": [
    {
     "name": "stdout",
     "output_type": "stream",
     "text": [
      "InceptionResNet Model AUC:  50.66%\n"
     ]
    }
   ],
   "source": [
    "roc_auc_all_inception = roc_auc_score(labels, predictions_inception)\n",
    "print(f'InceptionResNet Model AUC: {roc_auc_all_inception *100 : 0.2f}%')"
   ]
  },
  {
   "cell_type": "markdown",
   "id": "1b2e09fb",
   "metadata": {},
   "source": [
    "## Visualizar resultados"
   ]
  },
  {
   "cell_type": "markdown",
   "id": "23b67ce4",
   "metadata": {},
   "source": [
    "#### Matriz de confusión"
   ]
  },
  {
   "cell_type": "code",
   "execution_count": 10,
   "id": "cd88adde",
   "metadata": {
    "scrolled": false
   },
   "outputs": [
    {
     "data": {
      "text/plain": [
       "[Text(0, 0.5, 'melanoma'), Text(0, 1.5, 'nevus'), Text(0, 2.5, 'keratoses')]"
      ]
     },
     "execution_count": 10,
     "metadata": {},
     "output_type": "execute_result"
    },
    {
     "data": {
      "image/png": "[encoded data removed]",
      "text/plain": [
       "<Figure size 432x288 with 2 Axes>"
      ]
     },
     "metadata": {
      "needs_background": "light"
     },
     "output_type": "display_data"
    }
   ],
   "source": [
    "# Confusion matrix for all classes\n",
    "y_true = test_data.classes\n",
    "y_pred = [np.argmax(x) for x in predictions_inception]\n",
    "\n",
    "labels = [\"melanoma\", \"nevus\", \"keratoses\"]\n",
    "cm = confusion_matrix(y_true, y_pred)\n",
    "cm = cm.astype('float') / cm.sum(axis=1)[:, np.newaxis] # Normalize confusion matrix\n",
    "ax = sns.heatmap(cm, annot=True)\n",
    "ax.xaxis.set_ticklabels(labels)\n",
    "ax.yaxis.set_ticklabels(labels)"
   ]
  },
  {
   "cell_type": "code",
   "execution_count": null,
   "id": "55036945",
   "metadata": {},
   "outputs": [],
   "source": []
  },
  {
   "cell_type": "code",
   "execution_count": null,
   "id": "6777cce4",
   "metadata": {},
   "outputs": [],
   "source": []
  }
 ],
 "metadata": {
  "kernelspec": {
   "display_name": "Python 3 (ipykernel)",
   "language": "python",
   "name": "python3"
  },
  "language_info": {
   "codemirror_mode": {
    "name": "ipython",
    "version": 3
   },
   "file_extension": ".py",
   "mimetype": "text/x-python",
   "name": "python",
   "nbconvert_exporter": "python",
   "pygments_lexer": "ipython3",
   "version": "3.8.12"
  }
 },
 "nbformat": 4,
 "nbformat_minor": 5
}
