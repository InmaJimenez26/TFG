{
 "cells": [
  {
   "cell_type": "markdown",
   "id": "4131a0c3",
   "metadata": {},
   "source": [
    "# Información datos (varias bases de datos)"
   ]
  },
  {
   "cell_type": "code",
   "execution_count": 2,
   "id": "8d960de9",
   "metadata": {},
   "outputs": [],
   "source": [
    "import tensorflow as tf\n",
    "import matplotlib.pyplot as plt\n",
    "import numpy as np\n",
    "import pandas as pd\n",
    "import glob as gb\n",
    "import random\n",
    "from PIL import Image"
   ]
  },
  {
   "cell_type": "markdown",
   "id": "d8d6360f",
   "metadata": {},
   "source": [
    "## Directorios"
   ]
  },
  {
   "cell_type": "code",
   "execution_count": 3,
   "id": "ac9a7976",
   "metadata": {},
   "outputs": [],
   "source": [
    "train_dir = '/Users/inma/Desktop/tfg/datos/train/'\n",
    "val_dir = '/Users/inma/Desktop/tfg/datos/valid/'\n",
    "test_dir = '/Users/inma/Desktop/tfg/datos/test/'"
   ]
  },
  {
   "cell_type": "markdown",
   "id": "da4d7c86",
   "metadata": {},
   "source": [
    "# 1. Reparto de imágenes\n",
    "Tengo todas las imágenes juntas y voy a hacer la división en train, val y test."
   ]
  },
  {
   "cell_type": "code",
   "execution_count": 4,
   "id": "e2762eb5",
   "metadata": {},
   "outputs": [
    {
     "name": "stdout",
     "output_type": "stream",
     "text": [
      "Número de imágenes de melanoma:  1901\n",
      "Número de imágenes de nevus:  8665\n",
      "Número de imágenes de keratosis:  1562\n"
     ]
    }
   ],
   "source": [
    "images_path_melanoma = gb.glob(\"/Users/inma/Desktop/tfg/originales/melanoma/*.jpg\")\n",
    "\n",
    "images_path_nevus = gb.glob(\"/Users/inma/Desktop/tfg/originales/nevus/*.jpg\")\n",
    "\n",
    "images_path_keratosis = gb.glob(\"/Users/inma/Desktop/tfg/originales/seborrheic_keratosis/*.jpg\")\n",
    "\n",
    "n_melanoma = len(images_path_melanoma)\n",
    "n_nevus = len(images_path_nevus)\n",
    "n_keratosis = len(images_path_keratosis)\n",
    "\n",
    "print('Número de imágenes de melanoma: ', n_melanoma)\n",
    "print('Número de imágenes de nevus: ', n_nevus)\n",
    "print('Número de imágenes de keratosis: ', n_keratosis)"
   ]
  },
  {
   "cell_type": "code",
   "execution_count": 5,
   "id": "4f89d236",
   "metadata": {},
   "outputs": [
    {
     "name": "stdout",
     "output_type": "stream",
     "text": [
      "Número de imágenes de nevus:  1900\n"
     ]
    }
   ],
   "source": [
    "images_path_nevus = images_path_nevus[0:1900]\n",
    "n_nevus = len(images_path_nevus)\n",
    "print('Número de imágenes de nevus: ', n_nevus)"
   ]
  },
  {
   "cell_type": "markdown",
   "id": "47cb6d7b",
   "metadata": {},
   "source": [
    "Definir la función que cargará las imágenes y las guardará en el directorio correspondiente:"
   ]
  },
  {
   "cell_type": "code",
   "execution_count": 6,
   "id": "1c5ba108",
   "metadata": {},
   "outputs": [],
   "source": [
    "def añade_imagenes(images_path: str, type: str, train_dir: str, val_dir: str, test_dir: str):\n",
    "    cnt = 0\n",
    "    for path in images_path:\n",
    "        img = Image.open(path)\n",
    "        if cnt < len(images_path)*0.6 :\n",
    "            img.save(train_dir + type + '/imagen_' + str(cnt) + '.jpg')\n",
    "        elif cnt >= len(images_path)*0.6 and cnt < len(images_path)*0.8 :\n",
    "            img.save(val_dir + type + '/imagen_' + str(cnt) + '.jpg')\n",
    "        else :\n",
    "            img.save(test_dir + type + '/imagen_' + str(cnt) + '.jpg')\n",
    "        cnt += 1"
   ]
  },
  {
   "cell_type": "markdown",
   "id": "3642887b",
   "metadata": {},
   "source": [
    "Añadir las imágenes:"
   ]
  },
  {
   "cell_type": "code",
   "execution_count": 7,
   "id": "9c14b61b",
   "metadata": {},
   "outputs": [],
   "source": [
    "añade_imagenes(images_path_nevus, 'nevus', train_dir, val_dir, test_dir)"
   ]
  },
  {
   "cell_type": "code",
   "execution_count": 8,
   "id": "4daf92fb",
   "metadata": {},
   "outputs": [],
   "source": [
    "añade_imagenes(images_path_keratosis, 'seborrheic_keratosis', train_dir, val_dir, test_dir)"
   ]
  },
  {
   "cell_type": "code",
   "execution_count": 9,
   "id": "b9c92bf5",
   "metadata": {},
   "outputs": [],
   "source": [
    "añade_imagenes(images_path_melanoma, 'melanoma', train_dir, val_dir, test_dir)"
   ]
  },
  {
   "cell_type": "markdown",
   "id": "49980502",
   "metadata": {},
   "source": [
    "# Carga y visualización del reparto de datos"
   ]
  },
  {
   "cell_type": "markdown",
   "id": "9b510e83",
   "metadata": {},
   "source": [
    "### Comparar número de imágenes\n",
    "#### 1. Entrenamiento"
   ]
  },
  {
   "cell_type": "code",
   "execution_count": 10,
   "id": "b5fcbf6c",
   "metadata": {},
   "outputs": [],
   "source": [
    "import glob as gb\n",
    "\n",
    "images_train_mel = gb.glob(\"/Users/inma/Desktop/tfg/datos/train/melanoma/*.jpg\")\n",
    "images_train_nev = gb.glob(\"/Users/inma/Desktop/tfg/datos/train/nevus/*.jpg\")\n",
    "images_train_seb = gb.glob(\"/Users/inma/Desktop/tfg/datos/train/seborrheic_keratosis/*.jpg\")"
   ]
  },
  {
   "cell_type": "code",
   "execution_count": 11,
   "id": "16810341",
   "metadata": {},
   "outputs": [
    {
     "name": "stdout",
     "output_type": "stream",
     "text": [
      "Número de imágenes de melanoma en entrenamiento:  1141\n",
      "Número de imágenes de nevus en entrenamiento:  1140\n",
      "Número de imágenes de queratosis seborreica en entrenamiento:  938\n"
     ]
    }
   ],
   "source": [
    "print(\"Número de imágenes de melanoma en entrenamiento: \", len(images_train_mel))\n",
    "print(\"Número de imágenes de nevus en entrenamiento: \", len(images_train_nev))\n",
    "print(\"Número de imágenes de queratosis seborreica en entrenamiento: \", len(images_train_seb))\n"
   ]
  },
  {
   "cell_type": "code",
   "execution_count": 12,
   "id": "3cb88fd4",
   "metadata": {},
   "outputs": [
    {
     "name": "stdout",
     "output_type": "stream",
     "text": [
      "Número de imágenes en entrenamiento:  3219\n"
     ]
    }
   ],
   "source": [
    "total_train = len(images_train_mel)+len(images_train_nev)+len(images_train_seb)\n",
    "print(\"Número de imágenes en entrenamiento: \", total_train)"
   ]
  },
  {
   "cell_type": "code",
   "execution_count": 13,
   "id": "ade01a17",
   "metadata": {},
   "outputs": [],
   "source": [
    "porc_train_mel = len(images_train_mel)*100/total_train\n",
    "porc_train_nev = len(images_train_nev)*100/total_train\n",
    "porc_train_seb = len(images_train_seb)*100/total_train"
   ]
  },
  {
   "cell_type": "code",
   "execution_count": 14,
   "id": "e3f179f8",
   "metadata": {},
   "outputs": [
    {
     "name": "stdout",
     "output_type": "stream",
     "text": [
      "Porcentaje de imágenes de melanoma en entrenamiento:  35.44579061820441\n",
      "Porcentaje de imágenes de nevus en entrenamiento:  35.414725069897486\n",
      "Porcentaje de imágenes de queratosis seborreica en entrenamiento:  29.139484311898105\n"
     ]
    }
   ],
   "source": [
    "print(\"Porcentaje de imágenes de melanoma en entrenamiento: \", porc_train_mel)\n",
    "print(\"Porcentaje de imágenes de nevus en entrenamiento: \", porc_train_nev)\n",
    "print(\"Porcentaje de imágenes de queratosis seborreica en entrenamiento: \", porc_train_seb)"
   ]
  },
  {
   "cell_type": "markdown",
   "id": "ab1181ea",
   "metadata": {},
   "source": [
    "### 2. Validación"
   ]
  },
  {
   "cell_type": "code",
   "execution_count": 15,
   "id": "562904d4",
   "metadata": {},
   "outputs": [],
   "source": [
    "images_val_mel = gb.glob(\"/Users/inma/Desktop/tfg/datos/valid/melanoma/*.jpg\")\n",
    "images_val_nev = gb.glob(\"/Users/inma/Desktop/tfg/datos/valid/nevus/*.jpg\")\n",
    "images_val_seb = gb.glob(\"/Users/inma/Desktop/tfg/datos/valid/seborrheic_keratosis/*.jpg\")"
   ]
  },
  {
   "cell_type": "code",
   "execution_count": 16,
   "id": "09d444f8",
   "metadata": {},
   "outputs": [
    {
     "name": "stdout",
     "output_type": "stream",
     "text": [
      "Número de imágenes de melanoma en validación:  380\n",
      "Número de imágenes de nevus en validación:  380\n",
      "Número de imágenes de queratosis seborreica en validación:  312\n"
     ]
    }
   ],
   "source": [
    "print(\"Número de imágenes de melanoma en validación: \", len(images_val_mel))\n",
    "print(\"Número de imágenes de nevus en validación: \", len(images_val_nev))\n",
    "print(\"Número de imágenes de queratosis seborreica en validación: \", len(images_val_seb))"
   ]
  },
  {
   "cell_type": "code",
   "execution_count": 17,
   "id": "02d0f68f",
   "metadata": {},
   "outputs": [
    {
     "name": "stdout",
     "output_type": "stream",
     "text": [
      "Número de imágenes en validación:  1072\n"
     ]
    }
   ],
   "source": [
    "total_val = len(images_val_mel)+len(images_val_nev)+len(images_val_seb)\n",
    "print(\"Número de imágenes en validación: \", total_val)"
   ]
  },
  {
   "cell_type": "code",
   "execution_count": 18,
   "id": "91395d7c",
   "metadata": {},
   "outputs": [],
   "source": [
    "porc_val_mel = len(images_val_mel)*100/total_val\n",
    "porc_val_nev = len(images_val_nev)*100/total_val\n",
    "porc_val_seb = len(images_val_seb)*100/total_val"
   ]
  },
  {
   "cell_type": "code",
   "execution_count": 19,
   "id": "202fc9a6",
   "metadata": {},
   "outputs": [
    {
     "name": "stdout",
     "output_type": "stream",
     "text": [
      "Porcentaje de imágenes de melanoma en validación:  35.44776119402985\n",
      "Porcentaje de imágenes de nevus en validación:  35.44776119402985\n",
      "Porcentaje de imágenes de queratosis seborreica en validación:  29.104477611940297\n"
     ]
    }
   ],
   "source": [
    "print(\"Porcentaje de imágenes de melanoma en validación: \", porc_val_mel)\n",
    "print(\"Porcentaje de imágenes de nevus en validación: \", porc_val_nev)\n",
    "print(\"Porcentaje de imágenes de queratosis seborreica en validación: \", porc_val_seb)"
   ]
  },
  {
   "cell_type": "markdown",
   "id": "399dfee0",
   "metadata": {},
   "source": [
    "### 3. Test"
   ]
  },
  {
   "cell_type": "code",
   "execution_count": 20,
   "id": "7d933f50",
   "metadata": {},
   "outputs": [],
   "source": [
    "images_test_mel = gb.glob(\"/Users/inma/Desktop/tfg/datos/test/melanoma/*.jpg\")\n",
    "images_test_nev = gb.glob(\"/Users/inma/Desktop/tfg/datos/test/nevus/*.jpg\")\n",
    "images_test_seb = gb.glob(\"/Users/inma/Desktop/tfg/datos/test/seborrheic_keratosis/*.jpg\")"
   ]
  },
  {
   "cell_type": "code",
   "execution_count": 21,
   "id": "17a9c18b",
   "metadata": {},
   "outputs": [
    {
     "name": "stdout",
     "output_type": "stream",
     "text": [
      "Número de imágenes de melanoma en test:  380\n",
      "Número de imágenes de nevus en test:  380\n",
      "Número de imágenes de queratosis seborreica en test:  312\n"
     ]
    }
   ],
   "source": [
    "print(\"Número de imágenes de melanoma en test: \", len(images_test_mel))\n",
    "print(\"Número de imágenes de nevus en test: \", len(images_test_nev))\n",
    "print(\"Número de imágenes de queratosis seborreica en test: \", len(images_test_seb))"
   ]
  },
  {
   "cell_type": "code",
   "execution_count": 22,
   "id": "ce84f361",
   "metadata": {},
   "outputs": [
    {
     "name": "stdout",
     "output_type": "stream",
     "text": [
      "Número de imágenes en test:  1072\n"
     ]
    }
   ],
   "source": [
    "total_test = len(images_test_mel)+len(images_test_nev)+len(images_test_seb) \n",
    "print(\"Número de imágenes en test: \", total_test)"
   ]
  },
  {
   "cell_type": "code",
   "execution_count": 23,
   "id": "1eaf0a24",
   "metadata": {},
   "outputs": [],
   "source": [
    "porc_test_mel = len(images_test_mel)*100/total_test\n",
    "porc_test_nev = len(images_test_nev)*100/total_test\n",
    "porc_test_seb = len(images_test_seb)*100/total_test"
   ]
  },
  {
   "cell_type": "code",
   "execution_count": 24,
   "id": "c7030e5d",
   "metadata": {},
   "outputs": [
    {
     "name": "stdout",
     "output_type": "stream",
     "text": [
      "Porcentaje de imágenes de melanoma en test:  35.44776119402985\n",
      "Porcentaje de imágenes de nevus en test:  35.44776119402985\n",
      "Porcentaje de imágenes de queratosis seborreica en test:  29.104477611940297\n"
     ]
    }
   ],
   "source": [
    "print(\"Porcentaje de imágenes de melanoma en test: \", porc_test_mel)\n",
    "print(\"Porcentaje de imágenes de nevus en test: \", porc_test_nev)\n",
    "print(\"Porcentaje de imágenes de queratosis seborreica en test: \", porc_test_seb)"
   ]
  },
  {
   "cell_type": "markdown",
   "id": "ba3dcdcb",
   "metadata": {},
   "source": [
    "## Comparación"
   ]
  },
  {
   "cell_type": "code",
   "execution_count": 25,
   "id": "9d48f840",
   "metadata": {},
   "outputs": [
    {
     "name": "stdout",
     "output_type": "stream",
     "text": [
      "Porcentaje de imágenes en entrenamiento:  60.02237553608055\n",
      "Porcentaje de imágenes en test:  19.988812231959724\n",
      "Porcentaje de imágenes en test:  19.988812231959724\n"
     ]
    }
   ],
   "source": [
    "total_mel = len(images_train_mel)+len(images_val_mel)+len(images_test_mel)\n",
    "total_nev = len(images_train_nev)+len(images_val_nev)+len(images_test_nev)\n",
    "total_seb = len(images_train_seb)+len(images_val_seb)+len(images_test_seb)\n",
    "\n",
    "total = total_mel+total_nev+total_seb\n",
    "\n",
    "porc_train = total_train*100/total\n",
    "porc_val = total_val*100/total\n",
    "porc_test = total_test*100/total\n",
    "\n",
    "porc_mel = total_mel*100/total\n",
    "porc_nev = total_nev*100/total\n",
    "porc_seb = total_seb*100/total\n",
    "\n",
    "print(\"Porcentaje de imágenes en entrenamiento: \", porc_train)\n",
    "print(\"Porcentaje de imágenes en test: \", porc_val)\n",
    "print(\"Porcentaje de imágenes en test: \", porc_test)"
   ]
  },
  {
   "cell_type": "markdown",
   "id": "1eeaa63e",
   "metadata": {},
   "source": [
    "2. DataFrame"
   ]
  },
  {
   "cell_type": "code",
   "execution_count": 26,
   "id": "bf405170",
   "metadata": {},
   "outputs": [],
   "source": [
    "melanoma = [len(images_train_mel), len(images_val_mel), len(images_test_mel), total_mel]\n",
    "nevus = [len(images_train_nev), len(images_val_nev), len(images_test_nev), total_nev]\n",
    "keratosis = [len(images_train_seb), len(images_val_seb), len(images_test_seb), total_seb]\n",
    "total_etapa = [total_train, total_val, total_test, total]\n",
    "\n",
    "melanoma_porc = [porc_train_mel, porc_val_mel, porc_test_mel, porc_mel]\n",
    "nevus_porc = [porc_train_nev, porc_val_nev, porc_test_nev, porc_nev]\n",
    "keratosis_porc = [porc_train_seb, porc_val_seb, porc_test_seb, porc_seb]\n",
    "total_etapa_porc = [porc_train, porc_val, porc_test, '100']\n",
    "\n",
    "df_comparacion = pd.DataFrame(list(zip(melanoma, nevus, keratosis, total_etapa)), columns = ['Melanoma', 'Nevus', 'Keratosis', 'Total Etapa'])\n",
    "df_comparacion.index = ['Entrenamiento', 'Validación', 'Test', 'Total Tipo']\n",
    "\n",
    "df_comp_porc = pd.DataFrame(list(zip(melanoma_porc, nevus_porc, keratosis_porc, total_etapa_porc)), columns = ['Melanoma', 'Nevus', 'Keratosis', 'Total Etapa'])\n",
    "df_comp_porc.index = ['Entrenamiento', 'Validación', 'Test', 'Total Tipo']"
   ]
  },
  {
   "cell_type": "code",
   "execution_count": 27,
   "id": "875519dc",
   "metadata": {},
   "outputs": [
    {
     "data": {
      "text/html": [
       "<div>\n",
       "<style scoped>\n",
       "    .dataframe tbody tr th:only-of-type {\n",
       "        vertical-align: middle;\n",
       "    }\n",
       "\n",
       "    .dataframe tbody tr th {\n",
       "        vertical-align: top;\n",
       "    }\n",
       "\n",
       "    .dataframe thead th {\n",
       "        text-align: right;\n",
       "    }\n",
       "</style>\n",
       "<table border=\"1\" class=\"dataframe\">\n",
       "  <thead>\n",
       "    <tr style=\"text-align: right;\">\n",
       "      <th></th>\n",
       "      <th>Melanoma</th>\n",
       "      <th>Nevus</th>\n",
       "      <th>Keratosis</th>\n",
       "      <th>Total Etapa</th>\n",
       "    </tr>\n",
       "  </thead>\n",
       "  <tbody>\n",
       "    <tr>\n",
       "      <th>Entrenamiento</th>\n",
       "      <td>1141</td>\n",
       "      <td>1140</td>\n",
       "      <td>938</td>\n",
       "      <td>3219</td>\n",
       "    </tr>\n",
       "    <tr>\n",
       "      <th>Validación</th>\n",
       "      <td>380</td>\n",
       "      <td>380</td>\n",
       "      <td>312</td>\n",
       "      <td>1072</td>\n",
       "    </tr>\n",
       "    <tr>\n",
       "      <th>Test</th>\n",
       "      <td>380</td>\n",
       "      <td>380</td>\n",
       "      <td>312</td>\n",
       "      <td>1072</td>\n",
       "    </tr>\n",
       "    <tr>\n",
       "      <th>Total Tipo</th>\n",
       "      <td>1901</td>\n",
       "      <td>1900</td>\n",
       "      <td>1562</td>\n",
       "      <td>5363</td>\n",
       "    </tr>\n",
       "  </tbody>\n",
       "</table>\n",
       "</div>"
      ],
      "text/plain": [
       "               Melanoma  Nevus  Keratosis  Total Etapa\n",
       "Entrenamiento      1141   1140        938         3219\n",
       "Validación          380    380        312         1072\n",
       "Test                380    380        312         1072\n",
       "Total Tipo         1901   1900       1562         5363"
      ]
     },
     "execution_count": 27,
     "metadata": {},
     "output_type": "execute_result"
    }
   ],
   "source": [
    "df_comparacion"
   ]
  },
  {
   "cell_type": "code",
   "execution_count": 28,
   "id": "0303b6d1",
   "metadata": {},
   "outputs": [
    {
     "data": {
      "text/html": [
       "<div>\n",
       "<style scoped>\n",
       "    .dataframe tbody tr th:only-of-type {\n",
       "        vertical-align: middle;\n",
       "    }\n",
       "\n",
       "    .dataframe tbody tr th {\n",
       "        vertical-align: top;\n",
       "    }\n",
       "\n",
       "    .dataframe thead th {\n",
       "        text-align: right;\n",
       "    }\n",
       "</style>\n",
       "<table border=\"1\" class=\"dataframe\">\n",
       "  <thead>\n",
       "    <tr style=\"text-align: right;\">\n",
       "      <th></th>\n",
       "      <th>Melanoma</th>\n",
       "      <th>Nevus</th>\n",
       "      <th>Keratosis</th>\n",
       "      <th>Total Etapa</th>\n",
       "    </tr>\n",
       "  </thead>\n",
       "  <tbody>\n",
       "    <tr>\n",
       "      <th>Entrenamiento</th>\n",
       "      <td>35.445791</td>\n",
       "      <td>35.414725</td>\n",
       "      <td>29.139484</td>\n",
       "      <td>60.022376</td>\n",
       "    </tr>\n",
       "    <tr>\n",
       "      <th>Validación</th>\n",
       "      <td>35.447761</td>\n",
       "      <td>35.447761</td>\n",
       "      <td>29.104478</td>\n",
       "      <td>19.988812</td>\n",
       "    </tr>\n",
       "    <tr>\n",
       "      <th>Test</th>\n",
       "      <td>35.447761</td>\n",
       "      <td>35.447761</td>\n",
       "      <td>29.104478</td>\n",
       "      <td>19.988812</td>\n",
       "    </tr>\n",
       "    <tr>\n",
       "      <th>Total Tipo</th>\n",
       "      <td>35.446578</td>\n",
       "      <td>35.427932</td>\n",
       "      <td>29.125489</td>\n",
       "      <td>100</td>\n",
       "    </tr>\n",
       "  </tbody>\n",
       "</table>\n",
       "</div>"
      ],
      "text/plain": [
       "                Melanoma      Nevus  Keratosis Total Etapa\n",
       "Entrenamiento  35.445791  35.414725  29.139484   60.022376\n",
       "Validación     35.447761  35.447761  29.104478   19.988812\n",
       "Test           35.447761  35.447761  29.104478   19.988812\n",
       "Total Tipo     35.446578  35.427932  29.125489         100"
      ]
     },
     "execution_count": 28,
     "metadata": {},
     "output_type": "execute_result"
    }
   ],
   "source": [
    "df_comp_porc"
   ]
  },
  {
   "cell_type": "markdown",
   "id": "dee0a102",
   "metadata": {},
   "source": [
    "#### Guardar tablas"
   ]
  },
  {
   "cell_type": "code",
   "execution_count": 29,
   "id": "c287b13f",
   "metadata": {},
   "outputs": [],
   "source": [
    "df_comparacion.to_csv(\"resultados/12-tabla_numero_images_2.csv\")\n",
    "df_comp_porc.to_csv(\"resultados/13-tabla_porcentaje_imagenes_2.csv\")"
   ]
  },
  {
   "cell_type": "markdown",
   "id": "5de1410f",
   "metadata": {},
   "source": [
    "### Gráficas\n",
    "1. Porcentaje de imágenes en cada etapa"
   ]
  },
  {
   "cell_type": "code",
   "execution_count": 30,
   "id": "87853170",
   "metadata": {},
   "outputs": [
    {
     "data": {
      "image/png": "[encoded data removed]",
      "text/plain": [
       "<Figure size 432x288 with 1 Axes>"
      ]
     },
     "metadata": {},
     "output_type": "display_data"
    }
   ],
   "source": [
    "import matplotlib.pyplot as plt\n",
    "\n",
    "fig, ax = plt.subplots()\n",
    "ax.pie([total_train, total_val, total_test], labels=[\"Entrenamiento\", \"Validación\", \"Test\"], autopct=\"%0.1f %%\")\n",
    "ax.set_title('Porcentaje de imágenes en cada etapa', loc = \"center\", fontdict = {'fontsize':14, 'fontweight':'bold'})\n",
    "plt.savefig(\"resultados/14-grafica_queso_porcentaje_imagenes_2.png\")\n",
    "plt.show()"
   ]
  },
  {
   "cell_type": "markdown",
   "id": "0c079d4d",
   "metadata": {},
   "source": [
    "2. Número de imágenes en cada etapa"
   ]
  },
  {
   "cell_type": "code",
   "execution_count": 31,
   "id": "e5c6c7d4",
   "metadata": {},
   "outputs": [
    {
     "data": {
      "image/png": "[encoded data removed]",
      "text/plain": [
       "<Figure size 432x288 with 1 Axes>"
      ]
     },
     "metadata": {
      "needs_background": "light"
     },
     "output_type": "display_data"
    }
   ],
   "source": [
    "fig, ax = plt.subplots()\n",
    "ax.bar([\"Entrenamiento\", \"Validación\", \"Test\"], [total_train, total_val, total_test], color=['blue', 'orange', 'green'])\n",
    "ax.set_title('Número de imágenes en cada etapa', loc = \"center\", fontdict = {'fontsize':14, 'fontweight':'bold'})\n",
    "plt.xlabel('Etapa')\n",
    "plt.ylabel('Número de imágenes')\n",
    "plt.savefig(\"resultados/15-grafica_barras_imagenes_etapa_2.png\")\n",
    "plt.show()"
   ]
  },
  {
   "cell_type": "markdown",
   "id": "7485c0fa",
   "metadata": {},
   "source": [
    "3. Número de imágenes por etapa y tipo"
   ]
  },
  {
   "cell_type": "code",
   "execution_count": 32,
   "id": "0de44d40",
   "metadata": {},
   "outputs": [],
   "source": [
    "numero_de_grupos = 3\n",
    "indice_barras = np.arange(numero_de_grupos)\n",
    "ancho_barras = 0.3"
   ]
  },
  {
   "cell_type": "code",
   "execution_count": 33,
   "id": "9915a594",
   "metadata": {
    "scrolled": true
   },
   "outputs": [
    {
     "data": {
      "image/png": "[encoded data removed]",
      "text/plain": [
       "<Figure size 432x288 with 1 Axes>"
      ]
     },
     "metadata": {
      "needs_background": "light"
     },
     "output_type": "display_data"
    }
   ],
   "source": [
    "fig, ax = plt.subplots()\n",
    "\n",
    "ax.bar(indice_barras, [len(images_train_mel), len(images_val_mel), len(images_test_mel)], width=ancho_barras, label = \"Melanoma\")\n",
    "ax.bar(indice_barras + ancho_barras, [len(images_train_nev), len(images_val_nev), len(images_test_nev)], width=ancho_barras, label = \"Nevus\")\n",
    "ax.bar(indice_barras + 2*ancho_barras, [len(images_train_seb), len(images_val_seb), len(images_test_seb)], width=ancho_barras, label = \"Keratosis\")\n",
    "\n",
    "plt.legend(loc='best')\n",
    "plt.xticks(indice_barras + ancho_barras, (\"Entrenamiento\", \"Validación\", \"Test\"))\n",
    "\n",
    "ax.set_title('Número de imágenes', loc = \"center\", fontdict = {'fontsize':14, 'fontweight':'bold'})\n",
    "plt.xlabel('Etapa')\n",
    "plt.ylabel('Número de imágenes por etapa y tipo')\n",
    "plt.savefig(\"resultados/16-grafica_barras_imagenes_etapa_tipo_2.png\")\n",
    "plt.show()"
   ]
  },
  {
   "cell_type": "markdown",
   "id": "ffc0f742",
   "metadata": {},
   "source": [
    "## Data Augmentation en keratosis\n",
    "Para igualar aún más el número de imágenes de cada tipoo, vamos a aumentar 100 imágenes para keratosis:"
   ]
  },
  {
   "cell_type": "code",
   "execution_count": 34,
   "id": "a284f2b0",
   "metadata": {},
   "outputs": [],
   "source": [
    "def augmentation(image):\n",
    "    \n",
    "    rng = tf.random.Generator.from_seed(random.randint(0,1000), alg='philox')\n",
    "    seed = rng.make_seeds(2)[0]\n",
    "    \n",
    "    image_tuned = image.resize((224,224))\n",
    "    image_tuned = tf.image.stateless_random_brightness(image_tuned, max_delta=0.1, seed=seed)\n",
    "    image_tuned = tf.image.stateless_random_contrast(image_tuned, lower=0.7, upper=0.9, seed=seed)\n",
    "    image_tuned = tf.image.stateless_random_crop(image_tuned, size=[200, 200, 3], seed=seed)\n",
    "    image_tuned = tf.image.stateless_random_flip_left_right(image_tuned, seed=seed)\n",
    "    image_tuned = tf.image.stateless_random_flip_up_down(image_tuned, seed=seed)\n",
    "    image_tuned = tf.image.stateless_random_saturation(image_tuned, lower=0.8, upper=1, seed=seed)\n",
    "    \n",
    "    return image_tuned"
   ]
  },
  {
   "cell_type": "code",
   "execution_count": 35,
   "id": "1ede0ee0",
   "metadata": {},
   "outputs": [],
   "source": [
    "def crea_imagenes(input_paths, output_path):\n",
    "    cnt = 0\n",
    "    for image_path in input_paths:\n",
    "        img_original = Image.open(image_path)\n",
    "        img = augmentation(img_original).numpy()\n",
    "        img = Image.fromarray(img)\n",
    "        img.save(output_path+\"aumentada_\"+str(cnt)+\".jpg\")  \n",
    "        cnt += 1\n",
    "        if cnt >= 100:\n",
    "            break"
   ]
  },
  {
   "cell_type": "code",
   "execution_count": 36,
   "id": "9f28a1d0",
   "metadata": {},
   "outputs": [
    {
     "data": {
      "text/plain": [
       "'/Users/inma/Desktop/tfg/datos/train/seborrheic_keratosis/'"
      ]
     },
     "execution_count": 36,
     "metadata": {},
     "output_type": "execute_result"
    }
   ],
   "source": [
    "keratosis_path = train_dir+'seborrheic_keratosis/'\n",
    "keratosis_path"
   ]
  },
  {
   "cell_type": "code",
   "execution_count": 37,
   "id": "cd2eb8e1",
   "metadata": {},
   "outputs": [
    {
     "name": "stderr",
     "output_type": "stream",
     "text": [
      "2022-04-27 22:48:11.219232: I tensorflow/core/platform/cpu_feature_guard.cc:151] This TensorFlow binary is optimized with oneAPI Deep Neural Network Library (oneDNN) to use the following CPU instructions in performance-critical operations:  AVX2 FMA\n",
      "To enable them in other operations, rebuild TensorFlow with the appropriate compiler flags.\n"
     ]
    }
   ],
   "source": [
    "crea_imagenes(images_path_keratosis, keratosis_path)"
   ]
  },
  {
   "cell_type": "code",
   "execution_count": null,
   "id": "27684168",
   "metadata": {},
   "outputs": [],
   "source": []
  }
 ],
 "metadata": {
  "kernelspec": {
   "display_name": "Python 3 (ipykernel)",
   "language": "python",
   "name": "python3"
  },
  "language_info": {
   "codemirror_mode": {
    "name": "ipython",
    "version": 3
   },
   "file_extension": ".py",
   "mimetype": "text/x-python",
   "name": "python",
   "nbconvert_exporter": "python",
   "pygments_lexer": "ipython3",
   "version": "3.8.12"
  }
 },
 "nbformat": 4,
 "nbformat_minor": 5
}
