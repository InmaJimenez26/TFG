{
 "cells": [
  {
   "cell_type": "markdown",
   "id": "deb5e9e3",
   "metadata": {},
   "source": [
    "# Modelo 1: Resnet50V2\n"
   ]
  },
  {
   "cell_type": "code",
   "execution_count": 1,
   "id": "be53d97e",
   "metadata": {},
   "outputs": [],
   "source": [
    "import tensorflow as tf\n",
    "import matplotlib.pyplot as plt"
   ]
  },
  {
   "cell_type": "markdown",
   "id": "bc21e830",
   "metadata": {},
   "source": [
    "## Carga de datos\n",
    "\n",
    "1. Denifinir los directorios"
   ]
  },
  {
   "cell_type": "code",
   "execution_count": 3,
   "id": "b31c71e4",
   "metadata": {},
   "outputs": [],
   "source": [
    "train_dir = \"/Users/inma/Desktop/tfg/datos/train\"\n",
    "test_dir = \"/Users/inma/Desktop/tfg/datos/test\"\n",
    "val_dir = \"/Users/inma/Desktop/tfg/datos/valid\""
   ]
  },
  {
   "cell_type": "markdown",
   "id": "67bd665c",
   "metadata": {},
   "source": [
    "2. Establecer los generadores de imágenes"
   ]
  },
  {
   "cell_type": "code",
   "execution_count": 4,
   "id": "6cef4222",
   "metadata": {},
   "outputs": [],
   "source": [
    "train_gen = tf.keras.preprocessing.image.ImageDataGenerator(rescale = 1./255) # rescale = reducir la dimension\n",
    "test_gen = tf.keras.preprocessing.image.ImageDataGenerator(rescale = 1./255)\n",
    "val_gen = tf.keras.preprocessing.image.ImageDataGenerator(rescale = 1./255)"
   ]
  },
  {
   "cell_type": "markdown",
   "id": "692c40b5",
   "metadata": {},
   "source": [
    "3. Extraer las imágenes de los directorios"
   ]
  },
  {
   "cell_type": "code",
   "execution_count": 5,
   "id": "12928162",
   "metadata": {},
   "outputs": [
    {
     "name": "stdout",
     "output_type": "stream",
     "text": [
      "Found 2000 images belonging to 3 classes.\n",
      "Found 600 images belonging to 3 classes.\n",
      "Found 150 images belonging to 3 classes.\n"
     ]
    }
   ],
   "source": [
    "train_data = train_gen.flow_from_directory(train_dir,\n",
    "                                           target_size = (224,224), # nueva escalacion\n",
    "                                           class_mode = \"categorical\", # la clase es categorica: melanoma\n",
    "                                           batch_size = 64 # tamaño del lote \n",
    "                                          ) \n",
    "test_data = test_gen.flow_from_directory(test_dir,\n",
    "                                           target_size = (224,224),\n",
    "                                           class_mode = \"categorical\",\n",
    "                                           batch_size = 64\n",
    "                                          )\n",
    "val_data = val_gen.flow_from_directory(val_dir,\n",
    "                                           target_size = (224,224),\n",
    "                                           class_mode = \"categorical\",\n",
    "                                           batch_size = 64\n",
    "                                          )"
   ]
  },
  {
   "cell_type": "markdown",
   "id": "2c4e9d4d",
   "metadata": {},
   "source": [
    "## Modelo\n",
    "\n",
    "1. Cargar el Resnet50V2"
   ]
  },
  {
   "cell_type": "code",
   "execution_count": 6,
   "id": "7ce75550",
   "metadata": {},
   "outputs": [
    {
     "name": "stderr",
     "output_type": "stream",
     "text": [
      "2022-03-18 13:41:56.517183: I tensorflow/core/platform/cpu_feature_guard.cc:151] This TensorFlow binary is optimized with oneAPI Deep Neural Network Library (oneDNN) to use the following CPU instructions in performance-critical operations:  AVX2 FMA\n",
      "To enable them in other operations, rebuild TensorFlow with the appropriate compiler flags.\n"
     ]
    }
   ],
   "source": [
    "# building a resnet model\n",
    "resnet_base = tf.keras.applications.ResNet50V2(include_top= False) # hay muchos modelos\n",
    "\n",
    "resnet_base.trainable = False # para que no entrene lo ya pre-entrenado"
   ]
  },
  {
   "cell_type": "markdown",
   "id": "b3c7bf06",
   "metadata": {},
   "source": [
    "2. Crear el modelo"
   ]
  },
  {
   "cell_type": "code",
   "execution_count": 7,
   "id": "2468b15a",
   "metadata": {},
   "outputs": [],
   "source": [
    "from tensorflow.keras import layers\n",
    "\n",
    "inputs = tf.keras.Input(shape=(224,224,3)) # puedo cambiar el tamaño???\n",
    "\n",
    "x = resnet_base(inputs)\n",
    "x = layers.GlobalAveragePooling2D()(x) # capa de pooling\n",
    "x = layers.Dense(128, activation = \"relu\")(x) # capa muy conectada, con argumento de activacion\n",
    "# x = layers.Dropout(0.2)(x)\n",
    "x = layers.Dense(64, activation = \"relu\")(x) # se repite -> mirar teoría\n",
    "outputs = layers.Dense(3, activation=\"softmax\")(x)\n",
    "\n",
    "resnet_model = tf.keras.Model(inputs,outputs) # modelo"
   ]
  },
  {
   "cell_type": "markdown",
   "id": "185fac9e",
   "metadata": {},
   "source": [
    "3. Compilar el modelo"
   ]
  },
  {
   "cell_type": "code",
   "execution_count": 8,
   "id": "132c361b",
   "metadata": {},
   "outputs": [],
   "source": [
    "resnet_model.compile(\n",
    "    loss = tf.keras.losses.categorical_crossentropy,\n",
    "    optimizer = tf.keras.optimizers.Adam(learning_rate = 0.001),\n",
    "    metrics = [\"accuracy\"]\n",
    ")"
   ]
  },
  {
   "cell_type": "markdown",
   "id": "7778ceb7",
   "metadata": {},
   "source": [
    "4. Entrenamiento y validación"
   ]
  },
  {
   "cell_type": "code",
   "execution_count": 9,
   "id": "63bb2b99",
   "metadata": {},
   "outputs": [
    {
     "name": "stdout",
     "output_type": "stream",
     "text": [
      "Epoch 1/5\n",
      "32/32 [==============================] - 336s 10s/step - loss: 0.7688 - accuracy: 0.6840 - val_loss: 0.8174 - val_accuracy: 0.6200\n",
      "Epoch 2/5\n",
      "32/32 [==============================] - 317s 10s/step - loss: 0.5728 - accuracy: 0.7655 - val_loss: 0.8596 - val_accuracy: 0.6533\n",
      "Epoch 3/5\n",
      "32/32 [==============================] - 2000s 64s/step - loss: 0.5179 - accuracy: 0.7845 - val_loss: 0.6882 - val_accuracy: 0.7333\n",
      "Epoch 4/5\n",
      "32/32 [==============================] - 311s 10s/step - loss: 0.4385 - accuracy: 0.8230 - val_loss: 0.7202 - val_accuracy: 0.6933\n",
      "Epoch 5/5\n",
      "32/32 [==============================] - 316s 10s/step - loss: 0.3757 - accuracy: 0.8480 - val_loss: 0.7636 - val_accuracy: 0.6867\n"
     ]
    },
    {
     "data": {
      "text/plain": [
       "<keras.callbacks.History at 0x7fa0d8114d90>"
      ]
     },
     "execution_count": 9,
     "metadata": {},
     "output_type": "execute_result"
    }
   ],
   "source": [
    "resnet_model.fit(train_data,\n",
    "                 epochs = 5,\n",
    "                 steps_per_epoch = len(train_data),\n",
    "                 validation_data = val_data,\n",
    "                 validation_steps = len(val_data)\n",
    "                 )"
   ]
  },
  {
   "cell_type": "code",
   "execution_count": 10,
   "id": "27da4b81",
   "metadata": {},
   "outputs": [],
   "source": [
    "resnet_base.trainable = True\n",
    "\n",
    "for layer in resnet_base.layers[:-5]:\n",
    "  resnet_base.trainable = False\n",
    "\n",
    "resnet_model.compile(\n",
    "    loss = tf.keras.losses.categorical_crossentropy,\n",
    "    optimizer = tf.keras.optimizers.Adam(learning_rate= 0.001),\n",
    "    metrics = [\"accuracy\"]\n",
    ")"
   ]
  },
  {
   "cell_type": "markdown",
   "id": "90ca1dad",
   "metadata": {},
   "source": [
    "5. Entrenamiento sobre el modelo tuneado"
   ]
  },
  {
   "cell_type": "code",
   "execution_count": 11,
   "id": "14ea9297",
   "metadata": {},
   "outputs": [
    {
     "name": "stdout",
     "output_type": "stream",
     "text": [
      "Epoch 1/5\n",
      "32/32 [==============================] - 325s 10s/step - loss: 0.3742 - accuracy: 0.8480 - val_loss: 0.9479 - val_accuracy: 0.7000\n",
      "Epoch 2/5\n",
      "32/32 [==============================] - 312s 10s/step - loss: 0.2872 - accuracy: 0.8930 - val_loss: 1.0824 - val_accuracy: 0.6600\n",
      "Epoch 3/5\n",
      "32/32 [==============================] - 312s 10s/step - loss: 0.2409 - accuracy: 0.9250 - val_loss: 0.9204 - val_accuracy: 0.7000\n",
      "Epoch 4/5\n",
      "32/32 [==============================] - 327s 10s/step - loss: 0.1764 - accuracy: 0.9495 - val_loss: 0.9881 - val_accuracy: 0.7000\n",
      "Epoch 5/5\n",
      "32/32 [==============================] - 328s 10s/step - loss: 0.1472 - accuracy: 0.9575 - val_loss: 0.9382 - val_accuracy: 0.7067\n"
     ]
    },
    {
     "data": {
      "text/plain": [
       "<keras.callbacks.History at 0x7fa0d81257f0>"
      ]
     },
     "execution_count": 11,
     "metadata": {},
     "output_type": "execute_result"
    }
   ],
   "source": [
    "resnet_model.fit(train_data,\n",
    "                 epochs = 5,\n",
    "                 steps_per_epoch = len(train_data),\n",
    "                 validation_data = val_data,\n",
    "                 validation_steps = len(val_data)\n",
    "                 )"
   ]
  },
  {
   "cell_type": "markdown",
   "id": "1747ed01",
   "metadata": {},
   "source": [
    "## Guardar el modelo"
   ]
  },
  {
   "cell_type": "code",
   "execution_count": 12,
   "id": "cc6c1c40",
   "metadata": {},
   "outputs": [
    {
     "name": "stderr",
     "output_type": "stream",
     "text": [
      "2022-03-18 15:03:46.154361: W tensorflow/python/util/util.cc:368] Sets are not currently considered sequences, but this may change in the future, so consider avoiding using them.\n"
     ]
    },
    {
     "name": "stdout",
     "output_type": "stream",
     "text": [
      "INFO:tensorflow:Assets written to: modelos/resnet_model/assets\n"
     ]
    }
   ],
   "source": [
    "resnet_model.save(\n",
    "    'modelos/resnet_model',\n",
    "    overwrite=True,\n",
    ")"
   ]
  },
  {
   "cell_type": "code",
   "execution_count": null,
   "id": "45d58d2c",
   "metadata": {},
   "outputs": [],
   "source": []
  }
 ],
 "metadata": {
  "kernelspec": {
   "display_name": "Python 3 (ipykernel)",
   "language": "python",
   "name": "python3"
  },
  "language_info": {
   "codemirror_mode": {
    "name": "ipython",
    "version": 3
   },
   "file_extension": ".py",
   "mimetype": "text/x-python",
   "name": "python",
   "nbconvert_exporter": "python",
   "pygments_lexer": "ipython3",
   "version": "3.8.12"
  }
 },
 "nbformat": 4,
 "nbformat_minor": 5
}
