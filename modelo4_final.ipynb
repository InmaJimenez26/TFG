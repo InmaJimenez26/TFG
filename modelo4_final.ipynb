{
 "cells": [
  {
   "cell_type": "markdown",
   "id": "deb5e9e3",
   "metadata": {},
   "source": [
    "# Modelo 1: EfficientNetV2B3"
   ]
  },
  {
   "cell_type": "code",
   "execution_count": 1,
   "id": "be53d97e",
   "metadata": {},
   "outputs": [],
   "source": [
    "import tensorflow as tf\n",
    "import matplotlib.pyplot as plt\n",
    "from keras.callbacks import ModelCheckpoint, ReduceLROnPlateau, EarlyStopping"
   ]
  },
  {
   "cell_type": "markdown",
   "id": "bc21e830",
   "metadata": {},
   "source": [
    "## Carga de datos\n",
    "\n",
    "1. Denifinir los directorios"
   ]
  },
  {
   "cell_type": "code",
   "execution_count": 2,
   "id": "b31c71e4",
   "metadata": {},
   "outputs": [],
   "source": [
    "train_dir = \"/Users/inma/Desktop/tfg/datos/train\"\n",
    "test_dir = \"/Users/inma/Desktop/tfg/datos/test\"\n",
    "val_dir = \"/Users/inma/Desktop/tfg/datos/valid\""
   ]
  },
  {
   "cell_type": "markdown",
   "id": "67bd665c",
   "metadata": {},
   "source": [
    "2. Establecer los generadores de imágenes"
   ]
  },
  {
   "cell_type": "code",
   "execution_count": 3,
   "id": "6cef4222",
   "metadata": {},
   "outputs": [],
   "source": [
    "train_gen = tf.keras.preprocessing.image.ImageDataGenerator(rescale = 1./255) # rescale = reducir la dimension\n",
    "test_gen = tf.keras.preprocessing.image.ImageDataGenerator(rescale = 1./255)\n",
    "val_gen = tf.keras.preprocessing.image.ImageDataGenerator(rescale = 1./255)"
   ]
  },
  {
   "cell_type": "markdown",
   "id": "692c40b5",
   "metadata": {},
   "source": [
    "3. Extraer las imágenes de los directorios"
   ]
  },
  {
   "cell_type": "code",
   "execution_count": 4,
   "id": "12928162",
   "metadata": {},
   "outputs": [
    {
     "name": "stdout",
     "output_type": "stream",
     "text": [
      "Found 3219 images belonging to 3 classes.\n",
      "Found 1072 images belonging to 3 classes.\n",
      "Found 1072 images belonging to 3 classes.\n"
     ]
    }
   ],
   "source": [
    "train_data = train_gen.flow_from_directory(train_dir,\n",
    "                                           target_size = (224,224), # nueva escalacion\n",
    "                                           class_mode = \"categorical\", # la clase es categorica: melanoma\n",
    "                                           batch_size = 64 # tamaño del lote \n",
    "                                          ) \n",
    "test_data = test_gen.flow_from_directory(test_dir,\n",
    "                                           target_size = (224,224),\n",
    "                                           class_mode = \"categorical\",\n",
    "                                           batch_size = 64\n",
    "                                          )\n",
    "val_data = val_gen.flow_from_directory(val_dir,\n",
    "                                           target_size = (224,224),\n",
    "                                           class_mode = \"categorical\",\n",
    "                                           batch_size = 64\n",
    "                                          )"
   ]
  },
  {
   "cell_type": "markdown",
   "id": "2c4e9d4d",
   "metadata": {},
   "source": [
    "## Modelo\n",
    "\n",
    "1. Cargar el EfficientNetV2B3"
   ]
  },
  {
   "cell_type": "code",
   "execution_count": 18,
   "id": "7ce75550",
   "metadata": {},
   "outputs": [],
   "source": [
    "# building a resnet model\n",
    "model_base = tf.keras.applications.InceptionResNetV2(weights='imagenet', include_top= False) # hay muchos modelos\n",
    "\n",
    "model_base.trainable = False # para que no entrene lo ya pre-entrenado"
   ]
  },
  {
   "cell_type": "markdown",
   "id": "b3c7bf06",
   "metadata": {},
   "source": [
    "2. Crear el modelo"
   ]
  },
  {
   "cell_type": "code",
   "execution_count": 19,
   "id": "2468b15a",
   "metadata": {},
   "outputs": [],
   "source": [
    "from tensorflow.keras import layers\n",
    "\n",
    "inputs = tf.keras.Input(shape=(224,224,3)) # puedo cambiar el tamaño???\n",
    "\n",
    "x = model_base(inputs)\n",
    "x = layers.GlobalAveragePooling2D()(x) # capa de pooling\n",
    "x = layers.Dense(128, activation = \"relu\")(x) # capa muy conectada, con argumento de activacion\n",
    "x = layers.Dropout(0.3)(x)\n",
    "x = layers.Dense(64, activation='relu')(x)\n",
    "outputs = layers.Dense(3, activation=\"softmax\")(x)\n",
    "\n",
    "model = tf.keras.Model(inputs,outputs) # modelo"
   ]
  },
  {
   "cell_type": "markdown",
   "id": "185fac9e",
   "metadata": {},
   "source": [
    "3. Compilar el modelo"
   ]
  },
  {
   "cell_type": "code",
   "execution_count": 20,
   "id": "132c361b",
   "metadata": {},
   "outputs": [],
   "source": [
    "model.compile(\n",
    "    loss = tf.keras.losses.categorical_crossentropy,\n",
    "    optimizer = tf.keras.optimizers.Adam(learning_rate = 0.01),\n",
    "    metrics = [\"accuracy\"]\n",
    ")"
   ]
  },
  {
   "cell_type": "markdown",
   "id": "7778ceb7",
   "metadata": {},
   "source": [
    "4. Entrenamiento y validación"
   ]
  },
  {
   "cell_type": "code",
   "execution_count": 21,
   "id": "f4272e9a",
   "metadata": {},
   "outputs": [],
   "source": [
    "checkpointer = ModelCheckpoint(filepath = 'modelos/02_inceptionResNet_model_final.hdf5', \n",
    "                               verbose = 1, # monitoreo\n",
    "                               save_best_only = True) # guarda solo el mejor\n",
    "\n",
    "scheduler = ReduceLROnPlateau(monitor = 'val_loss', \n",
    "                              #min_delta = 0.005, # cuanto tiene que mejorar\n",
    "                              factor = 0.1, # cuanto se reduce l_r*factor\n",
    "                              patience = 3, # numero de epocas sin mejora para reducir l_r\n",
    "                              min_lr = 1e-6, # l_r minimo\n",
    "                              verbose = 1) # mostrar mensajes\n",
    " \n",
    "early_stopper = EarlyStopping(monitor = 'val_loss', \n",
    "                              #min_delta = 0.005, # cuanto tiene que mejorar\n",
    "                              patience = 10, # numero de epocas sin mejora para parar el train\n",
    "                              verbose = 1, \n",
    "                              restore_best_weights = True) # establecer los pesos de la mejor epoca"
   ]
  },
  {
   "cell_type": "code",
   "execution_count": 22,
   "id": "63bb2b99",
   "metadata": {},
   "outputs": [
    {
     "name": "stdout",
     "output_type": "stream",
     "text": [
      "Epoch 1/30\n",
      "51/51 [==============================] - 486s 9s/step - loss: 1.8067 - accuracy: 0.4088 - val_loss: 0.9743 - val_accuracy: 0.5159 - lr: 0.0100\n",
      "Epoch 2/30\n",
      "51/51 [==============================] - 490s 10s/step - loss: 0.9678 - accuracy: 0.5259 - val_loss: 0.9234 - val_accuracy: 0.5541 - lr: 0.0100\n",
      "Epoch 3/30\n",
      " 2/51 [>.............................] - ETA: 7:16 - loss: 0.8886 - accuracy: 0.6094"
     ]
    },
    {
     "ename": "KeyboardInterrupt",
     "evalue": "",
     "output_type": "error",
     "traceback": [
      "\u001b[0;31m---------------------------------------------------------------------------\u001b[0m",
      "\u001b[0;31mKeyboardInterrupt\u001b[0m                         Traceback (most recent call last)",
      "\u001b[0;32m/var/folders/q7/m8jl9j2n2ynb43xxk8781cvh0000gn/T/ipykernel_840/2209093182.py\u001b[0m in \u001b[0;36m<module>\u001b[0;34m\u001b[0m\n\u001b[0;32m----> 1\u001b[0;31m model.fit(train_data,\n\u001b[0m\u001b[1;32m      2\u001b[0m                  \u001b[0mepochs\u001b[0m \u001b[0;34m=\u001b[0m \u001b[0;36m30\u001b[0m\u001b[0;34m,\u001b[0m\u001b[0;34m\u001b[0m\u001b[0;34m\u001b[0m\u001b[0m\n\u001b[1;32m      3\u001b[0m                  \u001b[0msteps_per_epoch\u001b[0m \u001b[0;34m=\u001b[0m \u001b[0mlen\u001b[0m\u001b[0;34m(\u001b[0m\u001b[0mtrain_data\u001b[0m\u001b[0;34m)\u001b[0m\u001b[0;34m,\u001b[0m\u001b[0;34m\u001b[0m\u001b[0;34m\u001b[0m\u001b[0m\n\u001b[1;32m      4\u001b[0m                  \u001b[0mvalidation_data\u001b[0m \u001b[0;34m=\u001b[0m \u001b[0mval_data\u001b[0m\u001b[0;34m,\u001b[0m\u001b[0;34m\u001b[0m\u001b[0;34m\u001b[0m\u001b[0m\n\u001b[1;32m      5\u001b[0m                  \u001b[0mvalidation_steps\u001b[0m \u001b[0;34m=\u001b[0m \u001b[0mlen\u001b[0m\u001b[0;34m(\u001b[0m\u001b[0mval_data\u001b[0m\u001b[0;34m)\u001b[0m\u001b[0;34m,\u001b[0m\u001b[0;34m\u001b[0m\u001b[0;34m\u001b[0m\u001b[0m\n",
      "\u001b[0;32m~/opt/anaconda3/envs/tfg/lib/python3.8/site-packages/keras/utils/traceback_utils.py\u001b[0m in \u001b[0;36merror_handler\u001b[0;34m(*args, **kwargs)\u001b[0m\n\u001b[1;32m     62\u001b[0m     \u001b[0mfiltered_tb\u001b[0m \u001b[0;34m=\u001b[0m \u001b[0;32mNone\u001b[0m\u001b[0;34m\u001b[0m\u001b[0;34m\u001b[0m\u001b[0m\n\u001b[1;32m     63\u001b[0m     \u001b[0;32mtry\u001b[0m\u001b[0;34m:\u001b[0m\u001b[0;34m\u001b[0m\u001b[0;34m\u001b[0m\u001b[0m\n\u001b[0;32m---> 64\u001b[0;31m       \u001b[0;32mreturn\u001b[0m \u001b[0mfn\u001b[0m\u001b[0;34m(\u001b[0m\u001b[0;34m*\u001b[0m\u001b[0margs\u001b[0m\u001b[0;34m,\u001b[0m \u001b[0;34m**\u001b[0m\u001b[0mkwargs\u001b[0m\u001b[0;34m)\u001b[0m\u001b[0;34m\u001b[0m\u001b[0;34m\u001b[0m\u001b[0m\n\u001b[0m\u001b[1;32m     65\u001b[0m     \u001b[0;32mexcept\u001b[0m \u001b[0mException\u001b[0m \u001b[0;32mas\u001b[0m \u001b[0me\u001b[0m\u001b[0;34m:\u001b[0m  \u001b[0;31m# pylint: disable=broad-except\u001b[0m\u001b[0;34m\u001b[0m\u001b[0;34m\u001b[0m\u001b[0m\n\u001b[1;32m     66\u001b[0m       \u001b[0mfiltered_tb\u001b[0m \u001b[0;34m=\u001b[0m \u001b[0m_process_traceback_frames\u001b[0m\u001b[0;34m(\u001b[0m\u001b[0me\u001b[0m\u001b[0;34m.\u001b[0m\u001b[0m__traceback__\u001b[0m\u001b[0;34m)\u001b[0m\u001b[0;34m\u001b[0m\u001b[0;34m\u001b[0m\u001b[0m\n",
      "\u001b[0;32m~/opt/anaconda3/envs/tfg/lib/python3.8/site-packages/keras/engine/training.py\u001b[0m in \u001b[0;36mfit\u001b[0;34m(self, x, y, batch_size, epochs, verbose, callbacks, validation_split, validation_data, shuffle, class_weight, sample_weight, initial_epoch, steps_per_epoch, validation_steps, validation_batch_size, validation_freq, max_queue_size, workers, use_multiprocessing)\u001b[0m\n\u001b[1;32m   1382\u001b[0m                 _r=1):\n\u001b[1;32m   1383\u001b[0m               \u001b[0mcallbacks\u001b[0m\u001b[0;34m.\u001b[0m\u001b[0mon_train_batch_begin\u001b[0m\u001b[0;34m(\u001b[0m\u001b[0mstep\u001b[0m\u001b[0;34m)\u001b[0m\u001b[0;34m\u001b[0m\u001b[0;34m\u001b[0m\u001b[0m\n\u001b[0;32m-> 1384\u001b[0;31m               \u001b[0mtmp_logs\u001b[0m \u001b[0;34m=\u001b[0m \u001b[0mself\u001b[0m\u001b[0;34m.\u001b[0m\u001b[0mtrain_function\u001b[0m\u001b[0;34m(\u001b[0m\u001b[0miterator\u001b[0m\u001b[0;34m)\u001b[0m\u001b[0;34m\u001b[0m\u001b[0;34m\u001b[0m\u001b[0m\n\u001b[0m\u001b[1;32m   1385\u001b[0m               \u001b[0;32mif\u001b[0m \u001b[0mdata_handler\u001b[0m\u001b[0;34m.\u001b[0m\u001b[0mshould_sync\u001b[0m\u001b[0;34m:\u001b[0m\u001b[0;34m\u001b[0m\u001b[0;34m\u001b[0m\u001b[0m\n\u001b[1;32m   1386\u001b[0m                 \u001b[0mcontext\u001b[0m\u001b[0;34m.\u001b[0m\u001b[0masync_wait\u001b[0m\u001b[0;34m(\u001b[0m\u001b[0;34m)\u001b[0m\u001b[0;34m\u001b[0m\u001b[0;34m\u001b[0m\u001b[0m\n",
      "\u001b[0;32m~/opt/anaconda3/envs/tfg/lib/python3.8/site-packages/tensorflow/python/util/traceback_utils.py\u001b[0m in \u001b[0;36merror_handler\u001b[0;34m(*args, **kwargs)\u001b[0m\n\u001b[1;32m    148\u001b[0m     \u001b[0mfiltered_tb\u001b[0m \u001b[0;34m=\u001b[0m \u001b[0;32mNone\u001b[0m\u001b[0;34m\u001b[0m\u001b[0;34m\u001b[0m\u001b[0m\n\u001b[1;32m    149\u001b[0m     \u001b[0;32mtry\u001b[0m\u001b[0;34m:\u001b[0m\u001b[0;34m\u001b[0m\u001b[0;34m\u001b[0m\u001b[0m\n\u001b[0;32m--> 150\u001b[0;31m       \u001b[0;32mreturn\u001b[0m \u001b[0mfn\u001b[0m\u001b[0;34m(\u001b[0m\u001b[0;34m*\u001b[0m\u001b[0margs\u001b[0m\u001b[0;34m,\u001b[0m \u001b[0;34m**\u001b[0m\u001b[0mkwargs\u001b[0m\u001b[0;34m)\u001b[0m\u001b[0;34m\u001b[0m\u001b[0;34m\u001b[0m\u001b[0m\n\u001b[0m\u001b[1;32m    151\u001b[0m     \u001b[0;32mexcept\u001b[0m \u001b[0mException\u001b[0m \u001b[0;32mas\u001b[0m \u001b[0me\u001b[0m\u001b[0;34m:\u001b[0m\u001b[0;34m\u001b[0m\u001b[0;34m\u001b[0m\u001b[0m\n\u001b[1;32m    152\u001b[0m       \u001b[0mfiltered_tb\u001b[0m \u001b[0;34m=\u001b[0m \u001b[0m_process_traceback_frames\u001b[0m\u001b[0;34m(\u001b[0m\u001b[0me\u001b[0m\u001b[0;34m.\u001b[0m\u001b[0m__traceback__\u001b[0m\u001b[0;34m)\u001b[0m\u001b[0;34m\u001b[0m\u001b[0;34m\u001b[0m\u001b[0m\n",
      "\u001b[0;32m~/opt/anaconda3/envs/tfg/lib/python3.8/site-packages/tensorflow/python/eager/def_function.py\u001b[0m in \u001b[0;36m__call__\u001b[0;34m(self, *args, **kwds)\u001b[0m\n\u001b[1;32m    913\u001b[0m \u001b[0;34m\u001b[0m\u001b[0m\n\u001b[1;32m    914\u001b[0m       \u001b[0;32mwith\u001b[0m \u001b[0mOptionalXlaContext\u001b[0m\u001b[0;34m(\u001b[0m\u001b[0mself\u001b[0m\u001b[0;34m.\u001b[0m\u001b[0m_jit_compile\u001b[0m\u001b[0;34m)\u001b[0m\u001b[0;34m:\u001b[0m\u001b[0;34m\u001b[0m\u001b[0;34m\u001b[0m\u001b[0m\n\u001b[0;32m--> 915\u001b[0;31m         \u001b[0mresult\u001b[0m \u001b[0;34m=\u001b[0m \u001b[0mself\u001b[0m\u001b[0;34m.\u001b[0m\u001b[0m_call\u001b[0m\u001b[0;34m(\u001b[0m\u001b[0;34m*\u001b[0m\u001b[0margs\u001b[0m\u001b[0;34m,\u001b[0m \u001b[0;34m**\u001b[0m\u001b[0mkwds\u001b[0m\u001b[0;34m)\u001b[0m\u001b[0;34m\u001b[0m\u001b[0;34m\u001b[0m\u001b[0m\n\u001b[0m\u001b[1;32m    916\u001b[0m \u001b[0;34m\u001b[0m\u001b[0m\n\u001b[1;32m    917\u001b[0m       \u001b[0mnew_tracing_count\u001b[0m \u001b[0;34m=\u001b[0m \u001b[0mself\u001b[0m\u001b[0;34m.\u001b[0m\u001b[0mexperimental_get_tracing_count\u001b[0m\u001b[0;34m(\u001b[0m\u001b[0;34m)\u001b[0m\u001b[0;34m\u001b[0m\u001b[0;34m\u001b[0m\u001b[0m\n",
      "\u001b[0;32m~/opt/anaconda3/envs/tfg/lib/python3.8/site-packages/tensorflow/python/eager/def_function.py\u001b[0m in \u001b[0;36m_call\u001b[0;34m(self, *args, **kwds)\u001b[0m\n\u001b[1;32m    945\u001b[0m       \u001b[0;31m# In this case we have created variables on the first call, so we run the\u001b[0m\u001b[0;34m\u001b[0m\u001b[0;34m\u001b[0m\u001b[0;34m\u001b[0m\u001b[0m\n\u001b[1;32m    946\u001b[0m       \u001b[0;31m# defunned version which is guaranteed to never create variables.\u001b[0m\u001b[0;34m\u001b[0m\u001b[0;34m\u001b[0m\u001b[0;34m\u001b[0m\u001b[0m\n\u001b[0;32m--> 947\u001b[0;31m       \u001b[0;32mreturn\u001b[0m \u001b[0mself\u001b[0m\u001b[0;34m.\u001b[0m\u001b[0m_stateless_fn\u001b[0m\u001b[0;34m(\u001b[0m\u001b[0;34m*\u001b[0m\u001b[0margs\u001b[0m\u001b[0;34m,\u001b[0m \u001b[0;34m**\u001b[0m\u001b[0mkwds\u001b[0m\u001b[0;34m)\u001b[0m  \u001b[0;31m# pylint: disable=not-callable\u001b[0m\u001b[0;34m\u001b[0m\u001b[0;34m\u001b[0m\u001b[0m\n\u001b[0m\u001b[1;32m    948\u001b[0m     \u001b[0;32melif\u001b[0m \u001b[0mself\u001b[0m\u001b[0;34m.\u001b[0m\u001b[0m_stateful_fn\u001b[0m \u001b[0;32mis\u001b[0m \u001b[0;32mnot\u001b[0m \u001b[0;32mNone\u001b[0m\u001b[0;34m:\u001b[0m\u001b[0;34m\u001b[0m\u001b[0;34m\u001b[0m\u001b[0m\n\u001b[1;32m    949\u001b[0m       \u001b[0;31m# Release the lock early so that multiple threads can perform the call\u001b[0m\u001b[0;34m\u001b[0m\u001b[0;34m\u001b[0m\u001b[0;34m\u001b[0m\u001b[0m\n",
      "\u001b[0;32m~/opt/anaconda3/envs/tfg/lib/python3.8/site-packages/tensorflow/python/eager/function.py\u001b[0m in \u001b[0;36m__call__\u001b[0;34m(self, *args, **kwargs)\u001b[0m\n\u001b[1;32m   2954\u001b[0m       (graph_function,\n\u001b[1;32m   2955\u001b[0m        filtered_flat_args) = self._maybe_define_function(args, kwargs)\n\u001b[0;32m-> 2956\u001b[0;31m     return graph_function._call_flat(\n\u001b[0m\u001b[1;32m   2957\u001b[0m         filtered_flat_args, captured_inputs=graph_function.captured_inputs)  # pylint: disable=protected-access\n\u001b[1;32m   2958\u001b[0m \u001b[0;34m\u001b[0m\u001b[0m\n",
      "\u001b[0;32m~/opt/anaconda3/envs/tfg/lib/python3.8/site-packages/tensorflow/python/eager/function.py\u001b[0m in \u001b[0;36m_call_flat\u001b[0;34m(self, args, captured_inputs, cancellation_manager)\u001b[0m\n\u001b[1;32m   1851\u001b[0m         and executing_eagerly):\n\u001b[1;32m   1852\u001b[0m       \u001b[0;31m# No tape is watching; skip to running the function.\u001b[0m\u001b[0;34m\u001b[0m\u001b[0;34m\u001b[0m\u001b[0;34m\u001b[0m\u001b[0m\n\u001b[0;32m-> 1853\u001b[0;31m       return self._build_call_outputs(self._inference_function.call(\n\u001b[0m\u001b[1;32m   1854\u001b[0m           ctx, args, cancellation_manager=cancellation_manager))\n\u001b[1;32m   1855\u001b[0m     forward_backward = self._select_forward_and_backward_functions(\n",
      "\u001b[0;32m~/opt/anaconda3/envs/tfg/lib/python3.8/site-packages/tensorflow/python/eager/function.py\u001b[0m in \u001b[0;36mcall\u001b[0;34m(self, ctx, args, cancellation_manager)\u001b[0m\n\u001b[1;32m    497\u001b[0m       \u001b[0;32mwith\u001b[0m \u001b[0m_InterpolateFunctionError\u001b[0m\u001b[0;34m(\u001b[0m\u001b[0mself\u001b[0m\u001b[0;34m)\u001b[0m\u001b[0;34m:\u001b[0m\u001b[0;34m\u001b[0m\u001b[0;34m\u001b[0m\u001b[0m\n\u001b[1;32m    498\u001b[0m         \u001b[0;32mif\u001b[0m \u001b[0mcancellation_manager\u001b[0m \u001b[0;32mis\u001b[0m \u001b[0;32mNone\u001b[0m\u001b[0;34m:\u001b[0m\u001b[0;34m\u001b[0m\u001b[0;34m\u001b[0m\u001b[0m\n\u001b[0;32m--> 499\u001b[0;31m           outputs = execute.execute(\n\u001b[0m\u001b[1;32m    500\u001b[0m               \u001b[0mstr\u001b[0m\u001b[0;34m(\u001b[0m\u001b[0mself\u001b[0m\u001b[0;34m.\u001b[0m\u001b[0msignature\u001b[0m\u001b[0;34m.\u001b[0m\u001b[0mname\u001b[0m\u001b[0;34m)\u001b[0m\u001b[0;34m,\u001b[0m\u001b[0;34m\u001b[0m\u001b[0;34m\u001b[0m\u001b[0m\n\u001b[1;32m    501\u001b[0m               \u001b[0mnum_outputs\u001b[0m\u001b[0;34m=\u001b[0m\u001b[0mself\u001b[0m\u001b[0;34m.\u001b[0m\u001b[0m_num_outputs\u001b[0m\u001b[0;34m,\u001b[0m\u001b[0;34m\u001b[0m\u001b[0;34m\u001b[0m\u001b[0m\n",
      "\u001b[0;32m~/opt/anaconda3/envs/tfg/lib/python3.8/site-packages/tensorflow/python/eager/execute.py\u001b[0m in \u001b[0;36mquick_execute\u001b[0;34m(op_name, num_outputs, inputs, attrs, ctx, name)\u001b[0m\n\u001b[1;32m     52\u001b[0m   \u001b[0;32mtry\u001b[0m\u001b[0;34m:\u001b[0m\u001b[0;34m\u001b[0m\u001b[0;34m\u001b[0m\u001b[0m\n\u001b[1;32m     53\u001b[0m     \u001b[0mctx\u001b[0m\u001b[0;34m.\u001b[0m\u001b[0mensure_initialized\u001b[0m\u001b[0;34m(\u001b[0m\u001b[0;34m)\u001b[0m\u001b[0;34m\u001b[0m\u001b[0;34m\u001b[0m\u001b[0m\n\u001b[0;32m---> 54\u001b[0;31m     tensors = pywrap_tfe.TFE_Py_Execute(ctx._handle, device_name, op_name,\n\u001b[0m\u001b[1;32m     55\u001b[0m                                         inputs, attrs, num_outputs)\n\u001b[1;32m     56\u001b[0m   \u001b[0;32mexcept\u001b[0m \u001b[0mcore\u001b[0m\u001b[0;34m.\u001b[0m\u001b[0m_NotOkStatusException\u001b[0m \u001b[0;32mas\u001b[0m \u001b[0me\u001b[0m\u001b[0;34m:\u001b[0m\u001b[0;34m\u001b[0m\u001b[0;34m\u001b[0m\u001b[0m\n",
      "\u001b[0;31mKeyboardInterrupt\u001b[0m: "
     ]
    }
   ],
   "source": [
    "model.fit(train_data,\n",
    "                 epochs = 30,\n",
    "                 steps_per_epoch = len(train_data),\n",
    "                 validation_data = val_data,\n",
    "                 validation_steps = len(val_data),\n",
    "                 callbacks = [scheduler, early_stopper]\n",
    "                 )"
   ]
  },
  {
   "cell_type": "code",
   "execution_count": 44,
   "id": "27da4b81",
   "metadata": {},
   "outputs": [],
   "source": [
    "model_base.trainable = True\n",
    "\n",
    "for layer in model_base.layers[:-5]:\n",
    "  model_base.trainable = False\n",
    "\n",
    "model.compile(\n",
    "    loss = tf.keras.losses.categorical_crossentropy,\n",
    "    optimizer = tf.keras.optimizers.Adam(learning_rate= 0.01),\n",
    "    metrics = [\"accuracy\"]\n",
    ")"
   ]
  },
  {
   "cell_type": "markdown",
   "id": "90ca1dad",
   "metadata": {},
   "source": [
    "5. Entrenamiento sobre el modelo tuneado"
   ]
  },
  {
   "cell_type": "code",
   "execution_count": 45,
   "id": "8bebb89a",
   "metadata": {},
   "outputs": [],
   "source": [
    "scheduler_tuned = ReduceLROnPlateau(monitor = 'val_loss', \n",
    "                                    #min_delta = 0.005, # cuanto tiene que mejorar\n",
    "                                    factor = 0.1, # cuanto se reduce l_r*factor\n",
    "                                    patience = 3, # numero de epocas sin mejora para reducir l_r\n",
    "                                    min_lr = 1e-6, # l_r minimo\n",
    "                                    verbose = 1) # mostrar mensajes\n",
    " \n",
    "early_stopper_tuned = EarlyStopping(monitor = 'val_loss', \n",
    "                              #min_delta = 0.005, # cuanto tiene que mejorar\n",
    "                              patience = 10, # numero de epocas sin mejora para parar el train\n",
    "                              verbose = 1, \n",
    "                              restore_best_weights = True) # establecer los pesos de la mejor epoca"
   ]
  },
  {
   "cell_type": "code",
   "execution_count": 46,
   "id": "14ea9297",
   "metadata": {},
   "outputs": [
    {
     "name": "stdout",
     "output_type": "stream",
     "text": [
      "Epoch 1/30\n",
      "51/51 [==============================] - 461s 9s/step - loss: 0.8820 - accuracy: 0.5707 - val_loss: 0.9197 - val_accuracy: 0.5746 - lr: 0.0100\n",
      "Epoch 2/30\n",
      "51/51 [==============================] - 481s 9s/step - loss: 0.8913 - accuracy: 0.5415 - val_loss: 0.8886 - val_accuracy: 0.5896 - lr: 0.0100\n",
      "Epoch 3/30\n",
      "51/51 [==============================] - 494s 10s/step - loss: 0.8841 - accuracy: 0.5601 - val_loss: 0.9038 - val_accuracy: 0.5504 - lr: 0.0100\n",
      "Epoch 4/30\n",
      "51/51 [==============================] - 501s 10s/step - loss: 0.8831 - accuracy: 0.5623 - val_loss: 0.8859 - val_accuracy: 0.5961 - lr: 0.0100\n",
      "Epoch 5/30\n",
      "51/51 [==============================] - 507s 10s/step - loss: 0.8674 - accuracy: 0.5676 - val_loss: 0.8471 - val_accuracy: 0.6185 - lr: 0.0100\n",
      "Epoch 6/30\n",
      "51/51 [==============================] - 515s 10s/step - loss: 0.8511 - accuracy: 0.5750 - val_loss: 0.8949 - val_accuracy: 0.6129 - lr: 0.0100\n",
      "Epoch 7/30\n",
      "51/51 [==============================] - 519s 10s/step - loss: 0.8414 - accuracy: 0.5856 - val_loss: 0.8587 - val_accuracy: 0.5951 - lr: 0.0100\n",
      "Epoch 8/30\n",
      "51/51 [==============================] - 522s 10s/step - loss: 0.8644 - accuracy: 0.5610 - val_loss: 0.8359 - val_accuracy: 0.6119 - lr: 0.0100\n",
      "Epoch 9/30\n",
      "51/51 [==============================] - 521s 10s/step - loss: 0.8303 - accuracy: 0.5881 - val_loss: 0.8418 - val_accuracy: 0.6399 - lr: 0.0100\n",
      "Epoch 10/30\n",
      "51/51 [==============================] - 523s 10s/step - loss: 0.8463 - accuracy: 0.5806 - val_loss: 0.8590 - val_accuracy: 0.5998 - lr: 0.0100\n",
      "Epoch 11/30\n",
      "51/51 [==============================] - ETA: 0s - loss: 0.8199 - accuracy: 0.6036\n",
      "Epoch 11: ReduceLROnPlateau reducing learning rate to 0.0009999999776482583.\n",
      "51/51 [==============================] - 522s 10s/step - loss: 0.8199 - accuracy: 0.6036 - val_loss: 0.8685 - val_accuracy: 0.5830 - lr: 0.0100\n",
      "Epoch 12/30\n",
      "51/51 [==============================] - 524s 10s/step - loss: 0.8003 - accuracy: 0.6098 - val_loss: 0.8312 - val_accuracy: 0.6213 - lr: 1.0000e-03\n",
      "Epoch 13/30\n",
      "51/51 [==============================] - 528s 10s/step - loss: 0.7984 - accuracy: 0.6030 - val_loss: 0.8361 - val_accuracy: 0.6110 - lr: 1.0000e-03\n",
      "Epoch 14/30\n",
      "51/51 [==============================] - 523s 10s/step - loss: 0.7813 - accuracy: 0.6226 - val_loss: 0.8338 - val_accuracy: 0.6213 - lr: 1.0000e-03\n",
      "Epoch 15/30\n",
      "51/51 [==============================] - ETA: 0s - loss: 0.7821 - accuracy: 0.6101\n",
      "Epoch 15: ReduceLROnPlateau reducing learning rate to 9.999999310821295e-05.\n",
      "51/51 [==============================] - 524s 10s/step - loss: 0.7821 - accuracy: 0.6101 - val_loss: 0.8338 - val_accuracy: 0.6315 - lr: 1.0000e-03\n",
      "Epoch 16/30\n",
      "51/51 [==============================] - 522s 10s/step - loss: 0.7719 - accuracy: 0.6167 - val_loss: 0.8327 - val_accuracy: 0.6259 - lr: 1.0000e-04\n",
      "Epoch 17/30\n",
      "51/51 [==============================] - 524s 10s/step - loss: 0.7706 - accuracy: 0.6241 - val_loss: 0.8327 - val_accuracy: 0.6250 - lr: 1.0000e-04\n",
      "Epoch 18/30\n",
      "51/51 [==============================] - ETA: 0s - loss: 0.7602 - accuracy: 0.6300\n",
      "Epoch 18: ReduceLROnPlateau reducing learning rate to 9.999999019782991e-06.\n",
      "51/51 [==============================] - 522s 10s/step - loss: 0.7602 - accuracy: 0.6300 - val_loss: 0.8335 - val_accuracy: 0.6250 - lr: 1.0000e-04\n",
      "Epoch 19/30\n",
      "51/51 [==============================] - 521s 10s/step - loss: 0.7702 - accuracy: 0.6294 - val_loss: 0.8333 - val_accuracy: 0.6250 - lr: 1.0000e-05\n",
      "Epoch 20/30\n",
      "51/51 [==============================] - 524s 10s/step - loss: 0.7707 - accuracy: 0.6266 - val_loss: 0.8331 - val_accuracy: 0.6259 - lr: 1.0000e-05\n",
      "Epoch 21/30\n",
      "51/51 [==============================] - ETA: 0s - loss: 0.7849 - accuracy: 0.6042\n",
      "Epoch 21: ReduceLROnPlateau reducing learning rate to 1e-06.\n",
      "51/51 [==============================] - 522s 10s/step - loss: 0.7849 - accuracy: 0.6042 - val_loss: 0.8331 - val_accuracy: 0.6241 - lr: 1.0000e-05\n",
      "Epoch 22/30\n",
      "51/51 [==============================] - ETA: 0s - loss: 0.7681 - accuracy: 0.6229Restoring model weights from the end of the best epoch: 12.\n",
      "51/51 [==============================] - 524s 10s/step - loss: 0.7681 - accuracy: 0.6229 - val_loss: 0.8330 - val_accuracy: 0.6241 - lr: 1.0000e-06\n",
      "Epoch 22: early stopping\n"
     ]
    },
    {
     "data": {
      "text/plain": [
       "<keras.callbacks.History at 0x7fcdf86f8850>"
      ]
     },
     "execution_count": 46,
     "metadata": {},
     "output_type": "execute_result"
    }
   ],
   "source": [
    "model.fit(train_data,\n",
    "                 epochs = 30,\n",
    "                 steps_per_epoch = len(train_data),\n",
    "                 validation_data = val_data,\n",
    "                 validation_steps = len(val_data),\n",
    "                 callbacks = [scheduler_tuned, early_stopper_tuned]\n",
    "                 )"
   ]
  },
  {
   "cell_type": "markdown",
   "id": "1747ed01",
   "metadata": {},
   "source": [
    "## Guardar el modelo"
   ]
  },
  {
   "cell_type": "code",
   "execution_count": 17,
   "id": "cc6c1c40",
   "metadata": {},
   "outputs": [
    {
     "name": "stdout",
     "output_type": "stream",
     "text": [
      "INFO:tensorflow:Assets written to: modelos/02_efficientNet_model_final/assets\n"
     ]
    }
   ],
   "source": [
    "model.save(\n",
    "    'modelos/02_efficientNet_model_final',\n",
    "    overwrite=True,\n",
    ")"
   ]
  },
  {
   "cell_type": "code",
   "execution_count": null,
   "id": "45d58d2c",
   "metadata": {},
   "outputs": [],
   "source": []
  }
 ],
 "metadata": {
  "kernelspec": {
   "display_name": "Python 3 (ipykernel)",
   "language": "python",
   "name": "python3"
  },
  "language_info": {
   "codemirror_mode": {
    "name": "ipython",
    "version": 3
   },
   "file_extension": ".py",
   "mimetype": "text/x-python",
   "name": "python",
   "nbconvert_exporter": "python",
   "pygments_lexer": "ipython3",
   "version": "3.8.12"
  }
 },
 "nbformat": 4,
 "nbformat_minor": 5
}
