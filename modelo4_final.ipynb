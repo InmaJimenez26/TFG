{
 "cells": [
  {
   "cell_type": "markdown",
   "id": "deb5e9e3",
   "metadata": {},
   "source": [
    "# Modelo 1: InceptionResNetV2"
   ]
  },
  {
   "cell_type": "code",
   "execution_count": 1,
   "id": "be53d97e",
   "metadata": {},
   "outputs": [],
   "source": [
    "import tensorflow as tf\n",
    "import matplotlib.pyplot as plt\n",
    "from keras.callbacks import ModelCheckpoint, ReduceLROnPlateau, EarlyStopping"
   ]
  },
  {
   "cell_type": "markdown",
   "id": "bc21e830",
   "metadata": {},
   "source": [
    "## Carga de datos\n",
    "\n",
    "1. Denifinir los directorios"
   ]
  },
  {
   "cell_type": "code",
   "execution_count": 2,
   "id": "b31c71e4",
   "metadata": {},
   "outputs": [],
   "source": [
    "train_dir = \"/Users/inma/Desktop/tfg/datos/train\"\n",
    "test_dir = \"/Users/inma/Desktop/tfg/datos/test\"\n",
    "val_dir = \"/Users/inma/Desktop/tfg/datos/valid\""
   ]
  },
  {
   "cell_type": "markdown",
   "id": "67bd665c",
   "metadata": {},
   "source": [
    "2. Establecer los generadores de imágenes"
   ]
  },
  {
   "cell_type": "code",
   "execution_count": 3,
   "id": "6cef4222",
   "metadata": {},
   "outputs": [],
   "source": [
    "train_gen = tf.keras.preprocessing.image.ImageDataGenerator(rescale = 1./255) # rescale = reducir la dimension\n",
    "test_gen = tf.keras.preprocessing.image.ImageDataGenerator(rescale = 1./255)\n",
    "val_gen = tf.keras.preprocessing.image.ImageDataGenerator(rescale = 1./255)"
   ]
  },
  {
   "cell_type": "markdown",
   "id": "692c40b5",
   "metadata": {},
   "source": [
    "3. Extraer las imágenes de los directorios"
   ]
  },
  {
   "cell_type": "code",
   "execution_count": 4,
   "id": "12928162",
   "metadata": {},
   "outputs": [
    {
     "name": "stdout",
     "output_type": "stream",
     "text": [
      "Found 3219 images belonging to 3 classes.\n",
      "Found 1072 images belonging to 3 classes.\n",
      "Found 1072 images belonging to 3 classes.\n"
     ]
    }
   ],
   "source": [
    "train_data = train_gen.flow_from_directory(train_dir,\n",
    "                                           target_size = (224,224), # nueva escalacion\n",
    "                                           class_mode = \"categorical\", # la clase es categorica: melanoma\n",
    "                                           batch_size = 64 # tamaño del lote \n",
    "                                          ) \n",
    "test_data = test_gen.flow_from_directory(test_dir,\n",
    "                                           target_size = (224,224),\n",
    "                                           class_mode = \"categorical\",\n",
    "                                           batch_size = 64\n",
    "                                          )\n",
    "val_data = val_gen.flow_from_directory(val_dir,\n",
    "                                           target_size = (224,224),\n",
    "                                           class_mode = \"categorical\",\n",
    "                                           batch_size = 64\n",
    "                                          )"
   ]
  },
  {
   "cell_type": "markdown",
   "id": "2c4e9d4d",
   "metadata": {},
   "source": [
    "## Modelo\n",
    "\n",
    "1. Cargar el InceptionResNetV2"
   ]
  },
  {
   "cell_type": "code",
   "execution_count": 18,
   "id": "7ce75550",
   "metadata": {},
   "outputs": [],
   "source": [
    "# building a resnet model\n",
    "model_base = tf.keras.applications.InceptionResNetV2(weights='imagenet', include_top= False) # hay muchos modelos\n",
    "\n",
    "model_base.trainable = False # para que no entrene lo ya pre-entrenado"
   ]
  },
  {
   "cell_type": "markdown",
   "id": "b3c7bf06",
   "metadata": {},
   "source": [
    "2. Crear el modelo"
   ]
  },
  {
   "cell_type": "code",
   "execution_count": 19,
   "id": "2468b15a",
   "metadata": {},
   "outputs": [],
   "source": [
    "from tensorflow.keras import layers\n",
    "\n",
    "inputs = tf.keras.Input(shape=(224,224,3)) # puedo cambiar el tamaño???\n",
    "\n",
    "x = model_base(inputs)\n",
    "x = layers.GlobalAveragePooling2D()(x) # capa de pooling\n",
    "x = layers.Dense(128, activation = \"relu\")(x) # capa muy conectada, con argumento de activacion\n",
    "x = layers.Dropout(0.3)(x)\n",
    "x = layers.Dense(64, activation='relu')(x)\n",
    "outputs = layers.Dense(3, activation=\"softmax\")(x)\n",
    "\n",
    "model = tf.keras.Model(inputs,outputs) # modelo"
   ]
  },
  {
   "cell_type": "markdown",
   "id": "185fac9e",
   "metadata": {},
   "source": [
    "3. Compilar el modelo"
   ]
  },
  {
   "cell_type": "code",
   "execution_count": 20,
   "id": "132c361b",
   "metadata": {},
   "outputs": [],
   "source": [
    "model.compile(\n",
    "    loss = tf.keras.losses.categorical_crossentropy,\n",
    "    optimizer = tf.keras.optimizers.Adam(learning_rate = 0.01),\n",
    "    metrics = [\"accuracy\"]\n",
    ")"
   ]
  },
  {
   "cell_type": "markdown",
   "id": "7778ceb7",
   "metadata": {},
   "source": [
    "4. Entrenamiento y validación"
   ]
  },
  {
   "cell_type": "code",
   "execution_count": 21,
   "id": "f4272e9a",
   "metadata": {},
   "outputs": [],
   "source": [
    "scheduler = ReduceLROnPlateau(monitor = 'val_loss', \n",
    "                              #min_delta = 0.005, # cuanto tiene que mejorar\n",
    "                              factor = 0.1, # cuanto se reduce l_r*factor\n",
    "                              patience = 3, # numero de epocas sin mejora para reducir l_r\n",
    "                              min_lr = 1e-6, # l_r minimo\n",
    "                              verbose = 1) # mostrar mensajes\n",
    " \n",
    "early_stopper = EarlyStopping(monitor = 'val_loss', \n",
    "                              #min_delta = 0.005, # cuanto tiene que mejorar\n",
    "                              patience = 10, # numero de epocas sin mejora para parar el train\n",
    "                              verbose = 1, \n",
    "                              restore_best_weights = True) # establecer los pesos de la mejor epoca"
   ]
  },
  {
   "cell_type": "code",
   "execution_count": null,
   "id": "6c18e40c",
   "metadata": {},
   "outputs": [],
   "source": [
    "model.fit(train_data,\n",
    "                 epochs = 30,\n",
    "                 steps_per_epoch = len(train_data),\n",
    "                 validation_data = val_data,\n",
    "                 validation_steps = len(val_data),\n",
    "                 callbacks = [scheduler, early_stopper]\n",
    "                 )"
   ]
  },
  {
   "cell_type": "markdown",
   "id": "1747ed01",
   "metadata": {},
   "source": [
    "## Guardar el modelo"
   ]
  },
  {
   "cell_type": "code",
   "execution_count": 17,
   "id": "cc6c1c40",
   "metadata": {},
   "outputs": [
    {
     "name": "stdout",
     "output_type": "stream",
     "text": [
      "INFO:tensorflow:Assets written to: modelos/02_efficientNet_model_final/assets\n"
     ]
    }
   ],
   "source": [
    "model.save(\n",
    "    'modelos/10_inception_final',\n",
    "    overwrite=True,\n",
    ")"
   ]
  },
  {
   "cell_type": "code",
   "execution_count": null,
   "id": "45d58d2c",
   "metadata": {},
   "outputs": [],
   "source": []
  }
 ],
 "metadata": {
  "kernelspec": {
   "display_name": "Python 3 (ipykernel)",
   "language": "python",
   "name": "python3"
  },
  "language_info": {
   "codemirror_mode": {
    "name": "ipython",
    "version": 3
   },
   "file_extension": ".py",
   "mimetype": "text/x-python",
   "name": "python",
   "nbconvert_exporter": "python",
   "pygments_lexer": "ipython3",
   "version": "3.8.12"
  }
 },
 "nbformat": 4,
 "nbformat_minor": 5
}
