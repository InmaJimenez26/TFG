{
 "cells": [
  {
   "cell_type": "markdown",
   "id": "8ea82570",
   "metadata": {},
   "source": [
    "# Aumento de datos\n",
    "## Información de los datos"
   ]
  },
  {
   "cell_type": "code",
   "execution_count": 2,
   "id": "0db2f903",
   "metadata": {},
   "outputs": [],
   "source": [
    "import matplotlib.pyplot as plt\n",
    "import matplotlib.image as mpimg\n",
    "import tensorflow as tf\n",
    "from tensorflow.keras import layers\n",
    "from keras.utils import np_utils\n",
    "from sklearn.datasets import load_files   \n",
    "import numpy as np\n",
    "from collections import Counter\n",
    "from tqdm import tqdm\n",
    "import pickle"
   ]
  },
  {
   "cell_type": "code",
   "execution_count": 18,
   "id": "0e20c91b",
   "metadata": {},
   "outputs": [
    {
     "data": {
      "image/png": "[encoded data removed]",
      "text/plain": [
       "<Figure size 432x288 with 1 Axes>"
      ]
     },
     "metadata": {
      "needs_background": "light"
     },
     "output_type": "display_data"
    }
   ],
   "source": [
    "img = mpimg.imread('/Users/inma/Desktop/tfg/codigo/resultados/09-grafica_barras_nuevo_imagenes_etapa_tipo.png')\n",
    "imgplot = plt.imshow(img)\n",
    "plt.show()"
   ]
  },
  {
   "cell_type": "markdown",
   "id": "669f22a9",
   "metadata": {},
   "source": [
    "Como vemos está descompensado, por lo que vamos a intentar arreglarlo.\n",
    "\n",
    "## Oversampling"
   ]
  },
  {
   "cell_type": "code",
   "execution_count": null,
   "id": "e9125a2f",
   "metadata": {},
   "outputs": [],
   "source": [
    "data_train_path = \"/Users/inma/Desktop/tfg/datos_equilibrados/train\"\n",
    "data_valid_path = \"/Users/inma/Desktop/tfg/datos_equilibrados/valid\"\n",
    "data_test_path = \"/Users/inma/Desktop/tfg/datos_equilibrados/test\""
   ]
  },
  {
   "cell_type": "code",
   "execution_count": 20,
   "id": "2bb0eb20",
   "metadata": {},
   "outputs": [],
   "source": [
    "# define function to load train, test, and validation datasets\n",
    "def load_data_raw (path):\n",
    "    data = load_files(path)\n",
    "    files = np.array(data['filenames'])\n",
    "    targets = np_utils.to_categorical(np.array(data['target']), 3)\n",
    "    \n",
    "    return files, targets\n",
    "\n",
    "train_filenames, train_targets = load_data_raw(data_train_path)\n",
    "#val_filenames, val_targets = load_data_raw(data_valid_path)"
   ]
  },
  {
   "cell_type": "markdown",
   "id": "ae56a98c",
   "metadata": {},
   "source": [
    "Desarrollando el código, encontré un error y descubrí que se habían generado 3 paths no válidos, son estos:"
   ]
  },
  {
   "cell_type": "code",
   "execution_count": 21,
   "id": "eee03972",
   "metadata": {
    "scrolled": true
   },
   "outputs": [
    {
     "name": "stdout",
     "output_type": "stream",
     "text": [
      "/Users/inma/Desktop/tfg/datos_equilibrados/train/melanoma/.DS_Store\n",
      "/Users/inma/Desktop/tfg/datos_equilibrados/train/seborrheic_keratosis/.DS_Store\n",
      "/Users/inma/Desktop/tfg/datos_equilibrados/train/nevus/.DS_Store\n"
     ]
    }
   ],
   "source": [
    "# encontrar el path que da error\n",
    "paths_erroneos_train = []\n",
    "#paths_erroneos_val = []\n",
    "\n",
    "for path in train_filenames:\n",
    "    if 'DS_Store' in path:\n",
    "        print(path)\n",
    "        paths_erroneos_train.append(path)\n",
    "\n",
    "#for path in val_filenames:\n",
    "    #if 'DS_Store' in path:\n",
    "        #print(path)\n",
    "        #paths_erroneos_val.append(path)        "
   ]
  },
  {
   "cell_type": "code",
   "execution_count": 22,
   "id": "e8533b76",
   "metadata": {},
   "outputs": [
    {
     "name": "stdout",
     "output_type": "stream",
     "text": [
      "['/Users/inma/Desktop/tfg/datos_equilibrados/train/melanoma/.DS_Store', '/Users/inma/Desktop/tfg/datos_equilibrados/train/seborrheic_keratosis/.DS_Store', '/Users/inma/Desktop/tfg/datos_equilibrados/train/nevus/.DS_Store']\n"
     ]
    }
   ],
   "source": [
    "print(paths_erroneos_train)\n",
    "#print(paths_erroneos_val)"
   ]
  },
  {
   "cell_type": "markdown",
   "id": "b2b5de87",
   "metadata": {},
   "source": [
    "No sé de donde salen esos ficheros, pero hay que eliminarlos."
   ]
  },
  {
   "cell_type": "code",
   "execution_count": 23,
   "id": "f8f9be24",
   "metadata": {},
   "outputs": [
    {
     "data": {
      "text/plain": [
       "(array([1192]),)"
      ]
     },
     "execution_count": 23,
     "metadata": {},
     "output_type": "execute_result"
    }
   ],
   "source": [
    "np.where(train_filenames == paths_erroneos_train[0])"
   ]
  },
  {
   "cell_type": "code",
   "execution_count": 24,
   "id": "3e2aa041",
   "metadata": {},
   "outputs": [
    {
     "data": {
      "text/plain": [
       "(array([1243]),)"
      ]
     },
     "execution_count": 24,
     "metadata": {},
     "output_type": "execute_result"
    }
   ],
   "source": [
    "np.where(train_filenames == paths_erroneos_train[1])"
   ]
  },
  {
   "cell_type": "code",
   "execution_count": 25,
   "id": "5a678091",
   "metadata": {},
   "outputs": [
    {
     "data": {
      "text/plain": [
       "(array([1641]),)"
      ]
     },
     "execution_count": 25,
     "metadata": {},
     "output_type": "execute_result"
    }
   ],
   "source": [
    "np.where(train_filenames == paths_erroneos_train[2])"
   ]
  },
  {
   "cell_type": "markdown",
   "id": "817edc4a",
   "metadata": {},
   "source": [
    "#### Eliminar de train_filenames y de train_targets\n",
    "\n",
    "Primero sacar una lista con los índices de los path erróneos:"
   ]
  },
  {
   "cell_type": "code",
   "execution_count": 26,
   "id": "4f7771bc",
   "metadata": {},
   "outputs": [
    {
     "name": "stdout",
     "output_type": "stream",
     "text": [
      "[1192, 1243, 1641]\n"
     ]
    }
   ],
   "source": [
    "error_train_id = []\n",
    "#error_val_id = []\n",
    "\n",
    "for i, path in enumerate(train_filenames):\n",
    "    if path in paths_erroneos_train:\n",
    "        error_train_id.append(i)\n",
    "        \n",
    "#for i, path in enumerate(val_filenames):\n",
    "    #if path in paths_erroneos_val:\n",
    "        #error_val_id.append(i)        \n",
    "\n",
    "print(error_train_id)\n",
    "#print(error_val_id)"
   ]
  },
  {
   "cell_type": "markdown",
   "id": "06486299",
   "metadata": {},
   "source": [
    "A continuación, eliminamos esos objetos de train_filenames y train_targets:"
   ]
  },
  {
   "cell_type": "code",
   "execution_count": 27,
   "id": "75ca5798",
   "metadata": {},
   "outputs": [],
   "source": [
    "train_filenames = np.delete(train_filenames, error_train_id)\n",
    "#val_filenames = np.delete(val_filenames, error_val_id)"
   ]
  },
  {
   "cell_type": "code",
   "execution_count": 28,
   "id": "22df44b8",
   "metadata": {},
   "outputs": [
    {
     "name": "stdout",
     "output_type": "stream",
     "text": [
      "1652\n",
      "1655\n"
     ]
    }
   ],
   "source": [
    "print(len(train_filenames))\n",
    "print(len(train_targets))"
   ]
  },
  {
   "cell_type": "code",
   "execution_count": 29,
   "id": "4d4463be",
   "metadata": {},
   "outputs": [],
   "source": [
    "#print(len(val_filenames))\n",
    "#print(len(val_targets))"
   ]
  },
  {
   "cell_type": "code",
   "execution_count": 30,
   "id": "084f30e2",
   "metadata": {},
   "outputs": [],
   "source": [
    "train_targets = [target for i, target in enumerate(train_targets) if i not in error_train_id]\n",
    "#val_targets = [target for i, target in enumerate(val_targets) if i not in error_val_id]"
   ]
  },
  {
   "cell_type": "code",
   "execution_count": 31,
   "id": "2a32266a",
   "metadata": {
    "scrolled": true
   },
   "outputs": [
    {
     "name": "stdout",
     "output_type": "stream",
     "text": [
      "1652\n"
     ]
    }
   ],
   "source": [
    "print(len(train_targets))\n",
    "#print(len(val_targets))"
   ]
  },
  {
   "cell_type": "code",
   "execution_count": 32,
   "id": "aabd1f48",
   "metadata": {},
   "outputs": [
    {
     "name": "stdout",
     "output_type": "stream",
     "text": [
      "<class 'list'>\n"
     ]
    }
   ],
   "source": [
    "print(type(train_targets))\n",
    "#print(type(val_targets))"
   ]
  },
  {
   "cell_type": "code",
   "execution_count": 33,
   "id": "4d0d356f",
   "metadata": {},
   "outputs": [],
   "source": [
    "train_targets = np.array(train_targets)\n",
    "#val_targets = np.array(val_targets)"
   ]
  },
  {
   "cell_type": "code",
   "execution_count": 34,
   "id": "60fc6f5f",
   "metadata": {},
   "outputs": [
    {
     "name": "stdout",
     "output_type": "stream",
     "text": [
      "<class 'numpy.ndarray'>\n"
     ]
    }
   ],
   "source": [
    "print(type(train_targets))\n",
    "#print(type(val_targets))"
   ]
  },
  {
   "cell_type": "markdown",
   "id": "b2237eef",
   "metadata": {},
   "source": [
    "Solucionado esto, seguimos con el código:"
   ]
  },
  {
   "cell_type": "code",
   "execution_count": 35,
   "id": "d1b87b1a",
   "metadata": {},
   "outputs": [
    {
     "data": {
      "text/plain": [
       "<BarContainer object of 3 artists>"
      ]
     },
     "execution_count": 35,
     "metadata": {},
     "output_type": "execute_result"
    },
    {
     "data": {
      "image/png": "[encoded data removed]",
      "text/plain": [
       "<Figure size 432x288 with 1 Axes>"
      ]
     },
     "metadata": {
      "needs_background": "light"
     },
     "output_type": "display_data"
    }
   ],
   "source": [
    "filenames_trimmed = [filename.split('/')[-2] for filename in train_filenames]\n",
    "classes_count = Counter(filenames_trimmed)\n",
    "\n",
    "# Plot the classes\n",
    "plt.bar(classes_count.keys(), classes_count.values(), color=['blue', 'orange', 'green'])"
   ]
  },
  {
   "cell_type": "code",
   "execution_count": 36,
   "id": "4fc2b634",
   "metadata": {},
   "outputs": [],
   "source": [
    "def plot_n_samples(filenames):\n",
    "    filenames_trimmed = [filename.split('/')[-2] for filename in filenames]\n",
    "    classes_count = Counter(filenames_trimmed)\n",
    "\n",
    "    # Plot the classes\n",
    "    plt.bar(classes_count.keys(), classes_count.values(), color=['blue', 'orange', 'green'])"
   ]
  },
  {
   "cell_type": "code",
   "execution_count": 37,
   "id": "b77f29d9",
   "metadata": {},
   "outputs": [
    {
     "data": {
      "image/png": "[encoded data removed]",
      "text/plain": [
       "<Figure size 432x288 with 1 Axes>"
      ]
     },
     "metadata": {
      "needs_background": "light"
     },
     "output_type": "display_data"
    }
   ],
   "source": [
    "from sklearn.utils import resample, shuffle\n",
    "\n",
    "# Choose one of the 3 for the feature_name\n",
    "feature_names = {0: 'melanoma', 1: 'nevus', 2: 'seborrheic_keratosis'}\n",
    "\n",
    "def upsample(filenames, targets, feature_name, n_samples = 1107):\n",
    "    upsample_idx = []\n",
    "    \n",
    "\n",
    "    # Find all the indices for nevus\n",
    "    for i, path in enumerate(filenames):\n",
    "        # If feature matches, save the index\n",
    "        if feature_name in path.split('/'):\n",
    "            upsample_idx.append(i)\n",
    "    \n",
    "    # Remove selected features from filenames to add the upsampled after\n",
    "    new_filenames = [filename for i, filename in enumerate(filenames) if i not in upsample_idx]\n",
    "    new_targets = [target for i, target in enumerate(targets) if i not in upsample_idx]\n",
    "\n",
    "    # Upsample\n",
    "    resampled_x, resampled_y = resample(filenames[upsample_idx], targets[upsample_idx], n_samples=n_samples, random_state=0)\n",
    "\n",
    "    # Add the upsampled features to new_filenames and new_targets\n",
    "    new_filenames += list(resampled_x)\n",
    "    new_targets += list(resampled_y) \n",
    "    \n",
    "    return np.array(new_filenames), np.array(new_targets)\n",
    "    \n",
    "# We upsample twice: once for each feature we want upsampled\n",
    "upsample_train_x, upsample_train_y = upsample(train_filenames, train_targets, feature_names[0])\n",
    "upsample_train_x, upsample_train_y = upsample(upsample_train_x, upsample_train_y, feature_names[2])\n",
    "\n",
    "#upsample_val_x, upsample_val_y = upsample(val_filenames, val_targets, feature_names[0], n_samples = 368)\n",
    "#upsample_val_x, upsample_val_y = upsample(upsample_val_x, upsample_val_y, feature_names[2], n_samples = 368)\n",
    "\n",
    "plot_n_samples(upsample_train_x)\n",
    "#plot_n_samples(upsample_val_x)"
   ]
  },
  {
   "cell_type": "code",
   "execution_count": 38,
   "id": "a3b0d9bd",
   "metadata": {},
   "outputs": [
    {
     "data": {
      "text/plain": [
       "{0: 'melanoma', 1: 'nevus', 2: 'seborrheic_keratosis'}"
      ]
     },
     "execution_count": 38,
     "metadata": {},
     "output_type": "execute_result"
    }
   ],
   "source": [
    "feature_names"
   ]
  },
  {
   "cell_type": "code",
   "execution_count": 39,
   "id": "40991dc1",
   "metadata": {},
   "outputs": [
    {
     "data": {
      "text/plain": [
       "3321"
      ]
     },
     "execution_count": 39,
     "metadata": {},
     "output_type": "execute_result"
    }
   ],
   "source": [
    "len(upsample_train_x)"
   ]
  },
  {
   "cell_type": "markdown",
   "id": "19cb08b0",
   "metadata": {},
   "source": [
    "El número es correcto: 1107 x 3 = 3321."
   ]
  },
  {
   "cell_type": "code",
   "execution_count": 40,
   "id": "acf147bb",
   "metadata": {},
   "outputs": [
    {
     "name": "stderr",
     "output_type": "stream",
     "text": [
      "100%|███████████████████████████████████████| 3321/3321 [07:14<00:00,  7.65it/s]\n"
     ]
    }
   ],
   "source": [
    "from keras.preprocessing import image   \n",
    "\n",
    "# Convert the image paths to tensors Manually\n",
    "def path_to_tensor(img_path):\n",
    "    # loads RGB image as PIL.Image.Image type\n",
    "    img = image.load_img(img_path, target_size=(224,224))\n",
    "    # convert PIL.Image.Image type to 3D tensor with shape (224, 224, 3)\n",
    "    x = image.img_to_array(img)\n",
    "    # convert 3D tensor to 4D tensor with shape (1, 224, 224, 3) and return 4D tensor\n",
    "    return np.expand_dims(x, axis=0)\n",
    "\n",
    "def paths_to_tensor(img_paths):\n",
    "    list_of_tensors = [path_to_tensor(img_path) for img_path in tqdm(img_paths)]\n",
    "    return np.vstack(list_of_tensors)\n",
    "\n",
    "\n",
    "train_filenames = paths_to_tensor(upsample_train_x)\n",
    "train_targets = upsample_train_y\n",
    "\n",
    "#val_filenames = paths_to_tensor(upsample_val_x)\n",
    "#val_targets = upsample_val_y"
   ]
  },
  {
   "cell_type": "markdown",
   "id": "0037f6d9",
   "metadata": {},
   "source": [
    "#### Guardar los datos "
   ]
  },
  {
   "cell_type": "code",
   "execution_count": 41,
   "id": "1dcd61c4",
   "metadata": {},
   "outputs": [],
   "source": [
    "pickle.dump(train_filenames, open('variablesGuardadas/oversampling/train_filenames.pkl', 'wb'))\n",
    "pickle.dump(train_targets, open('variablesGuardadas/oversampling/train_targets.pkl', 'wb'))\n",
    "\n",
    "#pickle.dump(val_filenames, open('variablesGuardadas/dataAugmentation/val_filenames.pkl', 'wb'))\n",
    "#pickle.dump(val_targets, open('variablesGuardadas/dataAugmentation/val_targets.pkl', 'wb'))"
   ]
  },
  {
   "cell_type": "markdown",
   "id": "018fe497",
   "metadata": {},
   "source": [
    "#### Cargar los datos"
   ]
  },
  {
   "cell_type": "code",
   "execution_count": 3,
   "id": "20654a21",
   "metadata": {},
   "outputs": [],
   "source": [
    "train_filenames = pickle.load(open('variablesGuardadas/oversampling/train_filenames.pkl', 'rb'))\n",
    "train_targets = pickle.load(open('variablesGuardadas/oversampling/train_targets.pkl', 'rb'))\n",
    "\n",
    "#val_filenames = pickle.load(open('variablesGuardadas/dataAugmentation/val_filenames.pkl', 'rb'))\n",
    "#val_targets = pickle.load(open('variablesGuardadas/dataAugmentation/val_targets.pkl', 'rb'))"
   ]
  },
  {
   "cell_type": "code",
   "execution_count": 4,
   "id": "ddf44d8b",
   "metadata": {},
   "outputs": [
    {
     "data": {
      "text/plain": [
       "array([[0., 1., 0.],\n",
       "       [0., 1., 0.],\n",
       "       [0., 1., 0.],\n",
       "       ...,\n",
       "       [0., 0., 1.],\n",
       "       [0., 0., 1.],\n",
       "       [0., 0., 1.]], dtype=float32)"
      ]
     },
     "execution_count": 4,
     "metadata": {},
     "output_type": "execute_result"
    }
   ],
   "source": [
    "train_targets"
   ]
  },
  {
   "cell_type": "code",
   "execution_count": 5,
   "id": "07ac6206",
   "metadata": {},
   "outputs": [
    {
     "data": {
      "text/plain": [
       "array([[[[188., 151., 143.],\n",
       "         [186., 149., 141.],\n",
       "         [190., 151., 144.],\n",
       "         ...,\n",
       "         [199., 173., 174.],\n",
       "         [194., 164., 164.],\n",
       "         [202., 168., 166.]],\n",
       "\n",
       "        [[189., 151., 140.],\n",
       "         [187., 149., 140.],\n",
       "         [191., 152., 145.],\n",
       "         ...,\n",
       "         [201., 172., 174.],\n",
       "         [190., 161., 163.],\n",
       "         [198., 165., 160.]],\n",
       "\n",
       "        [[188., 145., 136.],\n",
       "         [190., 153., 145.],\n",
       "         [191., 154., 145.],\n",
       "         ...,\n",
       "         [201., 177., 177.],\n",
       "         [193., 168., 171.],\n",
       "         [190., 160., 160.]],\n",
       "\n",
       "        ...,\n",
       "\n",
       "        [[194., 162., 163.],\n",
       "         [201., 169., 170.],\n",
       "         [190., 160., 158.],\n",
       "         ...,\n",
       "         [196., 165., 160.],\n",
       "         [197., 166., 163.],\n",
       "         [199., 168., 165.]],\n",
       "\n",
       "        [[196., 159., 153.],\n",
       "         [195., 156., 149.],\n",
       "         [196., 166., 166.],\n",
       "         ...,\n",
       "         [196., 165., 162.],\n",
       "         [196., 165., 162.],\n",
       "         [194., 163., 158.]],\n",
       "\n",
       "        [[195., 164., 162.],\n",
       "         [194., 157., 151.],\n",
       "         [194., 164., 162.],\n",
       "         ...,\n",
       "         [197., 167., 167.],\n",
       "         [198., 169., 165.],\n",
       "         [187., 157., 149.]]],\n",
       "\n",
       "\n",
       "       [[[  3.,   3.,   5.],\n",
       "         [  3.,   3.,   5.],\n",
       "         [  7.,   5.,   8.],\n",
       "         ...,\n",
       "         [ 16.,  20.,  21.],\n",
       "         [ 24.,  25.,  27.],\n",
       "         [ 31.,  32.,  37.]],\n",
       "\n",
       "        [[  4.,   4.,   6.],\n",
       "         [  3.,   3.,   5.],\n",
       "         [ 47.,  43.,  44.],\n",
       "         ...,\n",
       "         [ 17.,  18.,  20.],\n",
       "         [ 24.,  24.,  24.],\n",
       "         [ 29.,  30.,  34.]],\n",
       "\n",
       "        [[  4.,   4.,   6.],\n",
       "         [  6.,   4.,   5.],\n",
       "         [ 69.,  60.,  61.],\n",
       "         ...,\n",
       "         [ 13.,  14.,  18.],\n",
       "         [ 20.,  21.,  23.],\n",
       "         [ 31.,  31.,  33.]],\n",
       "\n",
       "        ...,\n",
       "\n",
       "        [[ 14.,  16.,  15.],\n",
       "         [ 58.,  54.,  53.],\n",
       "         [ 42.,  36.,  38.],\n",
       "         ...,\n",
       "         [  3.,   3.,   5.],\n",
       "         [  3.,   3.,   5.],\n",
       "         [  3.,   3.,   5.]],\n",
       "\n",
       "        [[ 12.,  13.,  15.],\n",
       "         [ 14.,  15.,  17.],\n",
       "         [ 53.,  45.,  43.],\n",
       "         ...,\n",
       "         [  3.,   3.,   5.],\n",
       "         [  5.,   5.,   5.],\n",
       "         [  3.,   3.,   5.]],\n",
       "\n",
       "        [[ 15.,  16.,  18.],\n",
       "         [ 16.,  18.,  17.],\n",
       "         [ 73.,  69.,  70.],\n",
       "         ...,\n",
       "         [  4.,   2.,   5.],\n",
       "         [  3.,   3.,   5.],\n",
       "         [  3.,   2.,   7.]]],\n",
       "\n",
       "\n",
       "       [[[150., 133., 115.],\n",
       "         [147., 132., 113.],\n",
       "         [150., 136., 127.],\n",
       "         ...,\n",
       "         [160., 146., 145.],\n",
       "         [158., 147., 145.],\n",
       "         [160., 146., 145.]],\n",
       "\n",
       "        [[149., 134., 115.],\n",
       "         [154., 137., 127.],\n",
       "         [150., 135., 116.],\n",
       "         ...,\n",
       "         [160., 153., 145.],\n",
       "         [159., 148., 144.],\n",
       "         [157., 147., 145.]],\n",
       "\n",
       "        [[148., 132., 117.],\n",
       "         [151., 134., 118.],\n",
       "         [153., 140., 124.],\n",
       "         ...,\n",
       "         [162., 151., 149.],\n",
       "         [161., 150., 148.],\n",
       "         [161., 151., 149.]],\n",
       "\n",
       "        ...,\n",
       "\n",
       "        [[147., 133., 120.],\n",
       "         [148., 135., 119.],\n",
       "         [145., 137., 116.],\n",
       "         ...,\n",
       "         [157., 142., 135.],\n",
       "         [152., 141., 137.],\n",
       "         [153., 142., 138.]],\n",
       "\n",
       "        [[147., 135., 121.],\n",
       "         [148., 137., 119.],\n",
       "         [150., 137., 120.],\n",
       "         ...,\n",
       "         [151., 140., 136.],\n",
       "         [151., 144., 138.],\n",
       "         [152., 143., 138.]],\n",
       "\n",
       "        [[146., 133., 117.],\n",
       "         [150., 136., 123.],\n",
       "         [146., 130., 114.],\n",
       "         ...,\n",
       "         [151., 140., 134.],\n",
       "         [150., 139., 133.],\n",
       "         [155., 141., 132.]]],\n",
       "\n",
       "\n",
       "       ...,\n",
       "\n",
       "\n",
       "       [[[ 24.,  25.,  29.],\n",
       "         [ 31.,  33.,  45.],\n",
       "         [ 24.,  23.,  29.],\n",
       "         ...,\n",
       "         [ 60.,  70.,  97.],\n",
       "         [ 39.,  51.,  73.],\n",
       "         [ 33.,  48.,  77.]],\n",
       "\n",
       "        [[ 34.,  34.,  42.],\n",
       "         [ 20.,  19.,  24.],\n",
       "         [ 29.,  29.,  31.],\n",
       "         ...,\n",
       "         [ 32.,  38.,  54.],\n",
       "         [ 46.,  61.,  84.],\n",
       "         [ 57.,  81., 117.]],\n",
       "\n",
       "        [[ 25.,  28.,  35.],\n",
       "         [ 29.,  32.,  39.],\n",
       "         [ 38.,  35.,  42.],\n",
       "         ...,\n",
       "         [ 37.,  51.,  78.],\n",
       "         [ 46.,  65.,  97.],\n",
       "         [ 87., 106., 138.]],\n",
       "\n",
       "        ...,\n",
       "\n",
       "        [[ 53.,  62.,  77.],\n",
       "         [116.,  87.,  81.],\n",
       "         [116.,  78.,  65.],\n",
       "         ...,\n",
       "         [155., 132., 116.],\n",
       "         [ 43.,  41.,  44.],\n",
       "         [ 34.,  34.,  42.]],\n",
       "\n",
       "        [[ 64.,  79.,  98.],\n",
       "         [ 35.,  35.,  37.],\n",
       "         [116.,  72.,  59.],\n",
       "         ...,\n",
       "         [155., 137., 125.],\n",
       "         [ 32.,  36.,  45.],\n",
       "         [ 32.,  36.,  45.]],\n",
       "\n",
       "        [[ 21.,  20.,  25.],\n",
       "         [ 21.,  21.,  23.],\n",
       "         [114.,  76.,  63.],\n",
       "         ...,\n",
       "         [ 72.,  68.,  65.],\n",
       "         [ 30.,  33.,  38.],\n",
       "         [ 33.,  40.,  48.]]],\n",
       "\n",
       "\n",
       "       [[[ 43.,  41.,  42.],\n",
       "         [ 29.,  29.,  29.],\n",
       "         [ 25.,  25.,  25.],\n",
       "         ...,\n",
       "         [ 33.,  31.,  34.],\n",
       "         [ 25.,  25.,  25.],\n",
       "         [ 30.,  30.,  32.]],\n",
       "\n",
       "        [[ 36.,  34.,  35.],\n",
       "         [ 34.,  32.,  33.],\n",
       "         [ 30.,  28.,  29.],\n",
       "         ...,\n",
       "         [ 34.,  34.,  34.],\n",
       "         [ 35.,  35.,  37.],\n",
       "         [ 31.,  31.,  33.]],\n",
       "\n",
       "        [[ 33.,  32.,  30.],\n",
       "         [ 32.,  31.,  29.],\n",
       "         [ 69.,  68.,  66.],\n",
       "         ...,\n",
       "         [ 32.,  30.,  33.],\n",
       "         [ 32.,  30.,  35.],\n",
       "         [ 52.,  50.,  53.]],\n",
       "\n",
       "        ...,\n",
       "\n",
       "        [[ 16.,  16.,  16.],\n",
       "         [ 20.,  18.,  21.],\n",
       "         [ 25.,  23.,  24.],\n",
       "         ...,\n",
       "         [141., 118., 104.],\n",
       "         [ 60.,  49.,  43.],\n",
       "         [ 17.,  15.,  16.]],\n",
       "\n",
       "        [[ 18.,  16.,  17.],\n",
       "         [ 29.,  24.,  28.],\n",
       "         [ 32.,  30.,  31.],\n",
       "         ...,\n",
       "         [134., 115.,  98.],\n",
       "         [ 19.,  17.,  18.],\n",
       "         [ 18.,  16.,  19.]],\n",
       "\n",
       "        [[ 19.,  17.,  18.],\n",
       "         [ 65.,  65.,  63.],\n",
       "         [ 35.,  35.,  37.],\n",
       "         ...,\n",
       "         [ 96.,  83.,  66.],\n",
       "         [ 17.,  15.,  16.],\n",
       "         [ 17.,  15.,  18.]]],\n",
       "\n",
       "\n",
       "       [[[ 45.,  43.,  46.],\n",
       "         [ 43.,  41.,  44.],\n",
       "         [ 38.,  36.,  39.],\n",
       "         ...,\n",
       "         [103., 114., 134.],\n",
       "         [109., 117., 138.],\n",
       "         [116., 124., 145.]],\n",
       "\n",
       "        [[ 40.,  40.,  42.],\n",
       "         [ 43.,  43.,  45.],\n",
       "         [ 40.,  40.,  42.],\n",
       "         ...,\n",
       "         [ 96., 103., 121.],\n",
       "         [ 96., 102., 118.],\n",
       "         [107., 114., 132.]],\n",
       "\n",
       "        [[ 45.,  43.,  46.],\n",
       "         [ 43.,  41.,  44.],\n",
       "         [ 45.,  45.,  47.],\n",
       "         ...,\n",
       "         [ 88.,  97., 114.],\n",
       "         [110., 116., 130.],\n",
       "         [108., 116., 135.]],\n",
       "\n",
       "        ...,\n",
       "\n",
       "        [[ 76.,  75.,  89.],\n",
       "         [ 78.,  80.,  92.],\n",
       "         [ 87.,  87.,  97.],\n",
       "         ...,\n",
       "         [ 52.,  49.,  56.],\n",
       "         [ 51.,  50.,  55.],\n",
       "         [ 45.,  44.,  50.]],\n",
       "\n",
       "        [[ 71.,  75.,  87.],\n",
       "         [ 69.,  71.,  83.],\n",
       "         [ 72.,  72.,  82.],\n",
       "         ...,\n",
       "         [ 54.,  52.,  55.],\n",
       "         [ 50.,  48.,  51.],\n",
       "         [ 47.,  45.,  50.]],\n",
       "\n",
       "        [[ 71.,  71.,  83.],\n",
       "         [ 70.,  74.,  83.],\n",
       "         [ 67.,  67.,  77.],\n",
       "         ...,\n",
       "         [ 46.,  46.,  48.],\n",
       "         [ 46.,  46.,  48.],\n",
       "         [ 50.,  48.,  53.]]]], dtype=float32)"
      ]
     },
     "execution_count": 5,
     "metadata": {},
     "output_type": "execute_result"
    }
   ],
   "source": [
    "train_filenames"
   ]
  },
  {
   "cell_type": "markdown",
   "id": "a7a6d7f4",
   "metadata": {},
   "source": [
    "### Generador de imágenes"
   ]
  },
  {
   "cell_type": "code",
   "execution_count": 42,
   "id": "2e2c5676",
   "metadata": {},
   "outputs": [],
   "source": [
    "train_gen = tf.keras.preprocessing.image.ImageDataGenerator(rescale = 1./255) # rescale = reducir la dimension\n",
    "test_gen = tf.keras.preprocessing.image.ImageDataGenerator(rescale = 1./255)\n",
    "val_gen = tf.keras.preprocessing.image.ImageDataGenerator(rescale = 1./255)"
   ]
  },
  {
   "cell_type": "code",
   "execution_count": 44,
   "id": "ec563752",
   "metadata": {},
   "outputs": [
    {
     "name": "stdout",
     "output_type": "stream",
     "text": [
      "Found 549 images belonging to 3 classes.\n",
      "Found 549 images belonging to 3 classes.\n"
     ]
    }
   ],
   "source": [
    "train_data = train_gen.flow(train_filenames, train_targets, batch_size=64)\n",
    "val_data = val_gen.flow_from_directory(data_valid_path,\n",
    "                                           target_size = (224,224),\n",
    "                                           class_mode = \"categorical\",\n",
    "                                           batch_size = 64\n",
    "                                          )\n",
    "\n",
    "test_data = test_gen.flow_from_directory(data_test_path,\n",
    "                                           target_size = (224,224),\n",
    "                                           class_mode = \"categorical\",\n",
    "                                           batch_size = 64\n",
    "                                          )"
   ]
  },
  {
   "cell_type": "markdown",
   "id": "415e7d8f",
   "metadata": {},
   "source": [
    "Número de imágenes en cada etapa:"
   ]
  },
  {
   "cell_type": "code",
   "execution_count": 45,
   "id": "47abece1",
   "metadata": {},
   "outputs": [
    {
     "name": "stdout",
     "output_type": "stream",
     "text": [
      "3321 549 549\n"
     ]
    }
   ],
   "source": [
    "num_train = len(train_filenames)\n",
    "num_valid = len(val_data.filenames)\n",
    "num_test = len(test_data.filenames)\n",
    "\n",
    "print(num_train, num_valid, num_test)"
   ]
  },
  {
   "cell_type": "markdown",
   "id": "29543e54",
   "metadata": {},
   "source": [
    "#### Obtener el indice de cada clase"
   ]
  },
  {
   "cell_type": "code",
   "execution_count": 46,
   "id": "5c3c6f20",
   "metadata": {},
   "outputs": [
    {
     "name": "stdout",
     "output_type": "stream",
     "text": [
      "Class to index: {'melanoma': 0, 'nevus': 1, 'seborrheic_keratoses': 2}\n",
      "Index to class: {0: 'melanoma', 1: 'nevus', 2: 'seborrheic_keratoses'}\n"
     ]
    }
   ],
   "source": [
    "# Class name to the index\n",
    "#class_2_indices = train_generator.class_indices\n",
    "class_2_indices = {'melanoma': 0, 'nevus': 1, 'seborrheic_keratoses': 2}\n",
    "print(\"Class to index:\", class_2_indices)\n",
    "\n",
    "# Reverse dict with the class index to the class name\n",
    "indices_2_class = {v: k for k, v in class_2_indices.items()}\n",
    "print(\"Index to class:\", indices_2_class)"
   ]
  },
  {
   "cell_type": "code",
   "execution_count": null,
   "id": "afbee036",
   "metadata": {},
   "outputs": [],
   "source": []
  }
 ],
 "metadata": {
  "kernelspec": {
   "display_name": "Python 3 (ipykernel)",
   "language": "python",
   "name": "python3"
  },
  "language_info": {
   "codemirror_mode": {
    "name": "ipython",
    "version": 3
   },
   "file_extension": ".py",
   "mimetype": "text/x-python",
   "name": "python",
   "nbconvert_exporter": "python",
   "pygments_lexer": "ipython3",
   "version": "3.8.12"
  }
 },
 "nbformat": 4,
 "nbformat_minor": 5
}
